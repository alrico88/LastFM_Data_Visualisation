{
 "cells": [
  {
   "cell_type": "code",
   "execution_count": 638,
   "metadata": {
    "code_folding": [],
    "extensions": {
     "jupyter_dashboards": {
      "version": 1,
      "views": {
       "grid_default": {
        "col": 7,
        "height": 4,
        "hidden": false,
        "row": 2,
        "width": 3
       },
       "report_default": {}
      }
     }
    }
   },
   "outputs": [
    {
     "data": {
      "text/markdown": [
       "[![logo](./image/last.png)](https://www.last.fm/)"
      ],
      "text/plain": [
       "<IPython.core.display.Markdown object>"
      ]
     },
     "metadata": {},
     "output_type": "display_data"
    }
   ],
   "source": [
    "#get logo\n",
    "url = \"https://www.last.fm/\"\n",
    "logo = \"![logo](./image/last.png)\"\n",
    "display(Markdown(\"[{}]({})\".format(logo,url)))"
   ]
  },
  {
   "cell_type": "markdown",
   "metadata": {
    "extensions": {
     "jupyter_dashboards": {
      "version": 1,
      "views": {
       "grid_default": {
        "col": 0,
        "height": 18,
        "hidden": true,
        "row": 82,
        "width": 12
       },
       "report_default": {}
      }
     }
    }
   },
   "source": [
    "Welcome to Last.fm Data Visualiser!  \n",
    "  \n",
    "Before seeing your scrobbles come to life, go ahead and backup your scrobbles\n",
    "with **LastFM_Backup.py** first. That downloads all the scrobbles from your Last.fm account into a .csv file.\n",
    "There are a lot of tools to backup scrobbles into .csv, but I made my own because getting information\n",
    "on the tags in a scrobble is pretty important to me. This is also the reason why the backup takes a lot\n",
    "longer than other tools. But trust me, it's worthwhile! \n",
    "  \n",
    "1. Go to https://www.last.fm/api/account/create to create an API account. Call the application whatever you want, leave the other boxes blank and click submit. And then, **copy the API key**.\n",
    "2. Open **LastFM_Backup.py** with Notepad. Search for `YOUR_API_KEY` and replace it with the API KEY you obtained from step one.\n",
    "3. Open command prompt in this directory and type in the command `pip install -r Requirements.txt`\n",
    "4. To start the backup, open command prompt and type the command `python LastFM_Backup.py`.  \n",
    "5. Input your last.fm username and number of pages to fetch per cycle (I suggest 1-4.This is to minimise the number of calls each cycle to prevent crashing.)\n",
    "6. Be patient and wait for the backup to finish.    \n",
    "If the program crashes, just restart the LastFM_Backup.py and it will finish off the backup.  \n",
    "\n",
    "Once backup is done,\n",
    "1. Come back to here and enter your Last.fm details in the cell below.\n",
    "2. Go to https://plot.ly and sign up for an account. This is for plotting the interactive graph in this notebook.\n",
    "3. Go to your plotly **account settings &rarr; API KEYS** and click **Regererate Key** to get an API KEY.\n",
    "4. Enter the ploty information in the cell below. \n",
    "5. (optional but **highly recommended**) To view an awesome dashboard of this notebook, go to http://jupyter-dashboards-layout.readthedocs.io/en/latest/getting-started.html and follow the installation and enabling instructions.\n",
    "6. Run the code and change the view to dashboard preview.\n",
    "![image](image/dashboard.png)\n",
    "\n",
    "The rest is pretty self explanatory. Have fun!"
   ]
  },
  {
   "cell_type": "code",
   "execution_count": 598,
   "metadata": {
    "extensions": {
     "jupyter_dashboards": {
      "version": 1,
      "views": {
       "grid_default": {
        "col": 1,
        "height": 2,
        "hidden": false,
        "row": 0,
        "width": 10
       },
       "report_default": {}
      }
     }
    }
   },
   "outputs": [],
   "source": [
    "username = \"Your Last.fm username\"\n",
    "last_api_key = \"Your Last.fm api key\"\n",
    "plotly_username = 'Plotly username'\n",
    "plotly_api_key = 'Plotly api key'"
   ]
  },
  {
   "cell_type": "code",
   "execution_count": 599,
   "metadata": {
    "code_folding": [
     0
    ],
    "extensions": {
     "jupyter_dashboards": {
      "version": 1,
      "views": {
       "grid_default": {
        "col": 0,
        "height": 4,
        "hidden": true,
        "row": 82,
        "width": 4
       },
       "report_default": {}
      }
     }
    }
   },
   "outputs": [
    {
     "name": "stdout",
     "output_type": "stream",
     "text": [
      "Populating the interactive namespace from numpy and matplotlib\n"
     ]
    }
   ],
   "source": [
    "# Import the pandas library.\n",
    "import pandas as pd\n",
    "from scipy.stats import mode\n",
    "import datetime as dt\n",
    "from datetime import datetime\n",
    "from datetime import timedelta\n",
    "import time\n",
    "from datetime import date\n",
    "from collections import Counter\n",
    "from collections import OrderedDict\n",
    "import warnings\n",
    "warnings.filterwarnings(action='ignore')\n",
    "#plotting\n",
    "import numpy as np\n",
    "import matplotlib.pyplot as plt\n",
    "%pylab inline\n",
    "#plot\n",
    "import plotly\n",
    "plotly.tools.set_credentials_file(username=plotly_username, \n",
    "                                  api_key=plotly_api_key)\n",
    "import plotly.plotly as py\n",
    "import plotly.graph_objs as go\n",
    "#display texts\n",
    "from IPython.display import display, Markdown, Latex\n",
    "from IPython.display import Javascript\n",
    "#widgets\n",
    "import ipywidgets as widgets\n",
    "from ipywidgets import  Layout\n",
    "#get images\n",
    "import urllib\n",
    "import xmltodict"
   ]
  },
  {
   "cell_type": "code",
   "execution_count": 600,
   "metadata": {
    "code_folding": [
     0
    ],
    "extensions": {
     "jupyter_dashboards": {
      "version": 1,
      "views": {
       "grid_default": {
        "col": 4,
        "height": 3,
        "hidden": false,
        "row": 21,
        "width": 3
       },
       "report_default": {
        "hidden": true
       }
      }
     }
    }
   },
   "outputs": [],
   "source": [
    "#colours\n",
    "color1 = \"rgb(0,51,153)\"\n",
    "color2 = \"rgb(102,204,255)\"\n",
    "transparent = \"rgba(0,0,0,0)\""
   ]
  },
  {
   "cell_type": "code",
   "execution_count": 601,
   "metadata": {
    "code_folding": [
     0
    ],
    "extensions": {
     "jupyter_dashboards": {
      "version": 1,
      "views": {
       "grid_default": {
        "hidden": true
       },
       "report_default": {
        "hidden": true
       }
      }
     }
    }
   },
   "outputs": [],
   "source": [
    "#read data from csv\n",
    "scrobbles_df = pd.read_csv(username+\".csv\", header=None, dtype=str)\n",
    "scrobbles_df.columns = [\"week\", \"time\", \"artist\", \"artist_mbid\", \"track\", \n",
    "                     \"track_mbid\", \"album\", \"album_mbid\", \"tags\", \n",
    "                     \"album art\", \"timestamp\"]\n",
    "#make sure the scrobbles are in the right order\n",
    "scrobbles_df = scrobbles_df.sort_values(by=['timestamp'],ascending=False) "
   ]
  },
  {
   "cell_type": "code",
   "execution_count": 602,
   "metadata": {
    "collapsed": true,
    "extensions": {
     "jupyter_dashboards": {
      "version": 1,
      "views": {
       "grid_default": {
        "col": 8,
        "height": 12,
        "hidden": true,
        "row": 31,
        "width": 4
       },
       "report_default": {
        "hidden": true
       }
      }
     }
    }
   },
   "outputs": [
    {
     "name": "stdout",
     "output_type": "stream",
     "text": [
      "                       week                time              artist  \\\n",
      "0  2018-03-30 to 2018-04-05  31 Mar 2018, 13:51           Sam Feldt   \n",
      "1  2018-03-30 to 2018-04-05  31 Mar 2018, 13:47  Axwell /\\ Ingrosso   \n",
      "\n",
      "  artist_mbid                   track track_mbid                    album  \\\n",
      "0         NaN  Runaways (feat. Teemu)        NaN   Runaways (feat. Teemu)   \n",
      "1         NaN      More Than You Know        NaN  More Than You Know - EP   \n",
      "\n",
      "  album_mbid                           tags album art   timestamp  \n",
      "0        NaN                            NaN       NaN  1522504273  \n",
      "1        NaN  trap, TrapHouse, electronic,        NaN  1522504070  \n"
     ]
    }
   ],
   "source": [
    "print(scrobbles_df.head(2))"
   ]
  },
  {
   "cell_type": "code",
   "execution_count": 603,
   "metadata": {
    "code_folding": [
     0
    ],
    "extensions": {
     "jupyter_dashboards": {
      "version": 1,
      "views": {
       "grid_default": {
        "col": 1,
        "height": 3,
        "hidden": false,
        "row": 4,
        "width": 6
       },
       "report_default": {}
      }
     }
    }
   },
   "outputs": [
    {
     "data": {
      "application/javascript": [
       "IPython.notebook.execute_cell_range(IPython.notebook.get_selected_index()+1, IPython.notebook.ncells())"
      ],
      "text/plain": [
       "<IPython.core.display.Javascript object>"
      ]
     },
     "metadata": {},
     "output_type": "display_data"
    },
    {
     "data": {
      "application/vnd.jupyter.widget-view+json": {
       "model_id": "f1ac80dc296d42eb9be0471965c27f01",
       "version_major": 2,
       "version_minor": 0
      },
      "text/plain": [
       "A Jupyter Widget"
      ]
     },
     "metadata": {},
     "output_type": "display_data"
    },
    {
     "data": {
      "application/vnd.jupyter.widget-view+json": {
       "model_id": "b1730d53303c4d5c99bbecffe28594b3",
       "version_major": 2,
       "version_minor": 0
      },
      "text/plain": [
       "A Jupyter Widget"
      ]
     },
     "metadata": {},
     "output_type": "display_data"
    },
    {
     "data": {
      "application/javascript": [
       "IPython.notebook.execute_cell_range(IPython.notebook.get_selected_index()+1, IPython.notebook.ncells())"
      ],
      "text/plain": [
       "<IPython.core.display.Javascript object>"
      ]
     },
     "metadata": {},
     "output_type": "display_data"
    }
   ],
   "source": [
    "#widgets\n",
    "end_date = widgets.DatePicker(description=\"End date\", value=datetime.date.today(),\n",
    "           layout=Layout(width='90%', height='30px'))\n",
    "start_date = widgets.DatePicker(description=\"Start date\", value=datetime.date.today(),\n",
    "           layout=end_date.layout)\n",
    "def run_all(ev):\n",
    "     display(Javascript('IPython.notebook.execute_cell_range(IPython.notebook.get_selected_index()+1, IPython.notebook.ncells())'))\n",
    "button = widgets.Button(description=\"Enter\",layout = end_date.layout, \n",
    "                        disabled = False)\n",
    "button.on_click(run_all)\n",
    "ui =widgets.HBox([widgets.VBox([start_date]), widgets.VBox([end_date,button])])\n",
    "def f(a,b):\n",
    "    global end_date, length\n",
    "    start_date = a\n",
    "    end_date = b\n",
    "    del_days = end_date - start_date\n",
    "    if del_days.days <0:\n",
    "        button.disabled = True\n",
    "    else:\n",
    "        button.disabled = False\n",
    "    length = del_days.days+1\n",
    "    \n",
    "out = widgets.interactive_output(f, {'a': start_date, 'b': end_date})\n",
    "\n",
    "display(ui, out)"
   ]
  },
  {
   "cell_type": "markdown",
   "metadata": {
    "extensions": {
     "jupyter_dashboards": {
      "version": 1,
      "views": {
       "grid_default": {
        "col": 1,
        "height": 2,
        "hidden": false,
        "row": 2,
        "width": 3
       },
       "report_default": {
        "hidden": false
       }
      }
     }
    }
   },
   "source": [
    "# Last.fm summary"
   ]
  },
  {
   "cell_type": "code",
   "execution_count": 613,
   "metadata": {
    "code_folding": [
     0
    ],
    "extensions": {
     "jupyter_dashboards": {
      "version": 1,
      "views": {
       "grid_default": {
        "col": 4,
        "height": 2,
        "hidden": true,
        "row": 2,
        "width": 3
       },
       "report_default": {
        "hidden": false
       }
      }
     }
    },
    "scrolled": true
   },
   "outputs": [
    {
     "name": "stdout",
     "output_type": "stream",
     "text": [
      "from 2018-03-31 to 2018-04-01\n"
     ]
    }
   ],
   "source": [
    "#period is the number of days to visualise, default=7\n",
    "#previous period is the last period with the same length of time\n",
    "def get_week_strings(input_date=datetime.date.today(), period = 7):\n",
    "    time_difference = datetime.datetime.now()-datetime.datetime.utcnow()\n",
    "    end_date_at_00 = (dt.datetime.combine(input_date, \n",
    "                  dt.datetime.min.time())+timedelta(days=1))\n",
    "    end_timestamp = time.mktime(end_date_at_00.timetuple())\n",
    "    start_datetime = end_date_at_00 - timedelta(days=period)\n",
    "    start_timestamp = time.mktime(start_datetime.timetuple())\n",
    "    _end_datetime = start_datetime\n",
    "    _end_timestamp = time.mktime(_end_datetime.timetuple())\n",
    "    _start_datetime = _end_datetime - timedelta(days=period)\n",
    "    _start_timestamp = time.mktime(_start_datetime.timetuple())\n",
    "    start_datetime = datetime.datetime.fromtimestamp(\n",
    "        int(start_timestamp)).strftime('%Y-%m-%d')\n",
    "    print 'from {} to {}'.format(start_datetime,\n",
    "                (end_date_at_00-timedelta(days=1)).strftime('%Y-%m-%d'))\n",
    "    return [start_timestamp,end_timestamp], [_start_timestamp,_end_timestamp]\n",
    "# now = datetime.date(2018,4, 1)\n",
    "period,previous_period = get_week_strings(end_date,length)"
   ]
  },
  {
   "cell_type": "code",
   "execution_count": 614,
   "metadata": {
    "code_folding": [
     0
    ],
    "extensions": {
     "jupyter_dashboards": {
      "version": 1,
      "views": {
       "grid_default": {
        "col": 8,
        "height": 8,
        "hidden": true,
        "row": 43,
        "width": 4
       },
       "report_default": {
        "hidden": false
       }
      }
     }
    }
   },
   "outputs": [],
   "source": [
    "#filter dataframe to last week\n",
    "temp_df = scrobbles_df.loc[(period[0] <= scrobbles_df[\"timestamp\"].astype(int))]\n",
    "week_df = temp_df.loc[(temp_df[\"timestamp\"].astype(int) < period[1])]\n",
    "temp_df = scrobbles_df.loc[(previous_period[0] <= scrobbles_df[\"timestamp\"].astype(int))]\n",
    "week_before_df = temp_df.loc[(temp_df[\"timestamp\"].astype(int) < previous_period[1])]"
   ]
  },
  {
   "cell_type": "code",
   "execution_count": 615,
   "metadata": {
    "code_folding": [
     0
    ],
    "extensions": {
     "jupyter_dashboards": {
      "version": 1,
      "views": {
       "grid_default": {
        "col": 4,
        "height": 5,
        "hidden": true,
        "row": 22,
        "width": 4
       },
       "report_default": {
        "hidden": false
       }
      }
     }
    }
   },
   "outputs": [],
   "source": [
    "#get data per day last week and last last week\n",
    "def get_scrobble_per_day(week_df):\n",
    "    day_dict = {}\n",
    "    days = [\"Mon\",\"Tue\",\"Wed\",\"Thu\",\"Fri\",\"Sat\",\"Sun\"]\n",
    "    hour_dict = {}\n",
    "    for day in days:\n",
    "        day_dict[day] = 0\n",
    "    for index, row in week_df.iterrows():\n",
    "        datetime_object = dt.datetime.strptime(row[\"time\"], '%d %b %Y, %H:%M')\n",
    "        day_int = datetime_object.weekday()\n",
    "        day_str = days[day_int]\n",
    "        day_dict[day_str] += 1\n",
    "    keyorder = [\"Fri\",\"Sat\",\"Sun\",\"Mon\",\"Tue\",\"Wed\",\"Thu\"]\n",
    "    day_dict = OrderedDict(sorted(day_dict.items(), \n",
    "                                  key=lambda i:keyorder.index(i[0])))\n",
    "    return day_dict"
   ]
  },
  {
   "cell_type": "markdown",
   "metadata": {
    "extensions": {
     "jupyter_dashboards": {
      "version": 1,
      "views": {
       "grid_default": {
        "col": 1,
        "height": 2,
        "hidden": false,
        "row": 7,
        "width": 6
       },
       "report_default": {}
      }
     }
    }
   },
   "source": [
    "## Scrobbles each day"
   ]
  },
  {
   "cell_type": "code",
   "execution_count": 616,
   "metadata": {
    "code_folding": [
     0,
     1
    ],
    "extensions": {
     "jupyter_dashboards": {
      "version": 1,
      "views": {
       "grid_default": {
        "col": 1,
        "height": 12,
        "hidden": false,
        "row": 9,
        "width": 10
       },
       "report_default": {
        "hidden": false
       }
      }
     }
    }
   },
   "outputs": [
    {
     "data": {
      "text/html": [
       "<iframe id=\"igraph\" scrolling=\"no\" style=\"border:none;\" seamless=\"seamless\" src=\"https://plot.ly/~vfrdfbdfngfthnhfht/10.embed\" height=\"300px\" width=\"800px\"></iframe>"
      ],
      "text/plain": [
       "<plotly.tools.PlotlyDisplay object>"
      ]
     },
     "execution_count": 616,
     "metadata": {},
     "output_type": "execute_result"
    }
   ],
   "source": [
    "#\n",
    "def plot_weekday_chart(week_df,week_before_df):\n",
    "    week_before_dict = get_scrobble_per_day(week_before_df)\n",
    "    week_dict = get_scrobble_per_day(week_df)\n",
    "    days = [\"Fri\",\"Sat\",\"Sun\",\"Mon\",\"Tue\",\"Wed\",\"Thu\"]\n",
    "    trace2 = go.Bar(x=days, y=list(week_before_dict.values()), name='Previous period',\n",
    "                    marker=dict(color=color2))\n",
    "    trace1 = go.Bar(x=days, y=list(week_dict.values()),\n",
    "                    name='This period',marker=dict(color=color1))\n",
    "    data = [trace2,trace1]\n",
    "    layout = go.Layout(barmode='group',width=800,\n",
    "                       height=300, margin=go.Margin(l=0, r=0, b=50,\n",
    "                                                    t=0, pad=4))\n",
    "    fig = go.Figure(data=data, layout=layout)\n",
    "    return py.iplot(fig, filename='WeekdayChart')\n",
    "plot_weekday_chart(week_df,week_before_df)"
   ]
  },
  {
   "cell_type": "markdown",
   "metadata": {
    "extensions": {
     "jupyter_dashboards": {
      "version": 1,
      "views": {
       "grid_default": {
        "col": 1,
        "height": 2,
        "hidden": true,
        "row": 39,
        "width": 1
       },
       "report_default": {
        "hidden": false
       }
      }
     }
    }
   },
   "source": [
    "## Tops:"
   ]
  },
  {
   "cell_type": "code",
   "execution_count": 617,
   "metadata": {
    "code_folding": [
     0
    ],
    "extensions": {
     "jupyter_dashboards": {
      "version": 1,
      "views": {
       "grid_default": {
        "col": 4,
        "height": 9,
        "hidden": false,
        "row": 24,
        "width": 3
       },
       "report_default": {
        "hidden": false
       }
      }
     }
    }
   },
   "outputs": [
    {
     "data": {
      "text/markdown": [
       "### You had"
      ],
      "text/plain": [
       "<IPython.core.display.Markdown object>"
      ]
     },
     "metadata": {},
     "output_type": "display_data"
    },
    {
     "data": {
      "text/markdown": [
       "# *_131_* scrobbles"
      ],
      "text/plain": [
       "<IPython.core.display.Markdown object>"
      ]
     },
     "metadata": {},
     "output_type": "display_data"
    },
    {
     "data": {
      "text/markdown": [
       "### Or "
      ],
      "text/plain": [
       "<IPython.core.display.Markdown object>"
      ]
     },
     "metadata": {},
     "output_type": "display_data"
    },
    {
     "data": {
      "text/markdown": [
       "# **0** day, **6** hours"
      ],
      "text/plain": [
       "<IPython.core.display.Markdown object>"
      ]
     },
     "metadata": {},
     "output_type": "display_data"
    },
    {
     "data": {
      "text/markdown": [
       "### of awesomeness!!"
      ],
      "text/plain": [
       "<IPython.core.display.Markdown object>"
      ]
     },
     "metadata": {},
     "output_type": "display_data"
    }
   ],
   "source": [
    "#listening time\n",
    "def get_listening_time(week_df):\n",
    "    total_time = 0\n",
    "    track_list = []\n",
    "    stop_timer = True\n",
    "    start_timestamp = 0\n",
    "    stop_count = 0\n",
    "    first_index = week_df.index[0]\n",
    "    for index, row in week_df.iterrows():\n",
    "        timestamp = int(row[\"timestamp\"])\n",
    "        if stop_timer:\n",
    "            start_timestamp = timestamp\n",
    "        try:\n",
    "            next_timestamp = int(week_df.iloc[index-first_index+1][\"timestamp\"])\n",
    "        except:\n",
    "            next_timestamp = 99999999999\n",
    "        if timestamp - next_timestamp <=300:\n",
    "            stop_timer = False\n",
    "        else:\n",
    "            total_time += start_timestamp - timestamp + 180  \n",
    "            #180s is the average length of a song, this is added\n",
    "            #to account for the discontinued time data\n",
    "            stop_timer = True\n",
    "    hour = total_time/3600\n",
    "    day = int(hour/24)\n",
    "    hour = hour-24*day\n",
    "    display(Markdown(\"### You had\"))\n",
    "    total_scrobbles = week_df['timestamp'].count()\n",
    "    display(Markdown(\"# *_{}_* scrobbles\".format(str(total_scrobbles))))\n",
    "    display(Markdown(\"### Or \"))\n",
    "    if hour == 0:\n",
    "        display(Markdown(\"# **{}** hours\".format(day,hour)))\n",
    "    else:\n",
    "        display(Markdown(\"# **{}** day, **{}** hours\".format(day,hour)))\n",
    "    display(Markdown(\"### of awesomeness!!\"))\n",
    "get_listening_time(week_df)"
   ]
  },
  {
   "cell_type": "markdown",
   "metadata": {
    "extensions": {
     "jupyter_dashboards": {
      "version": 1,
      "views": {
       "grid_default": {
        "col": 7,
        "height": 2,
        "hidden": false,
        "row": 21,
        "width": 2
       },
       "report_default": {
        "hidden": false
       }
      }
     }
    }
   },
   "source": [
    "## Listening clock"
   ]
  },
  {
   "cell_type": "code",
   "execution_count": 618,
   "metadata": {
    "code_folding": [
     0,
     1
    ],
    "extensions": {
     "jupyter_dashboards": {
      "version": 1,
      "views": {
       "grid_default": {
        "col": 1,
        "height": 4,
        "hidden": true,
        "row": 11,
        "width": 3
       },
       "report_default": {
        "hidden": false
       }
      }
     }
    }
   },
   "outputs": [],
   "source": [
    "#\n",
    "def get_hour_dict(week_df):\n",
    "    hours = range(0, 24)\n",
    "    hour_dict = {}\n",
    "    for hour in hours:\n",
    "        hour_dict[hour] = 0\n",
    "    for index, row in week_df.iterrows():\n",
    "        datetime_object = dt.datetime.strptime(row[\"time\"], '%d %b %Y, %H:%M')\n",
    "        hour = datetime_object.hour\n",
    "        hour_dict[hour] += 1\n",
    "    return hour_dict"
   ]
  },
  {
   "cell_type": "code",
   "execution_count": 619,
   "metadata": {
    "code_folding": [
     0,
     1
    ],
    "extensions": {
     "jupyter_dashboards": {
      "version": 1,
      "views": {
       "grid_default": {
        "col": 7,
        "height": 14,
        "hidden": false,
        "row": 23,
        "width": 4
       },
       "report_default": {
        "hidden": false
       }
      }
     }
    }
   },
   "outputs": [
    {
     "data": {
      "text/html": [
       "<iframe id=\"igraph\" scrolling=\"no\" style=\"border:none;\" seamless=\"seamless\" src=\"https://plot.ly/~vfrdfbdfngfthnhfht/12.embed\" height=\"300px\" width=\"400px\"></iframe>"
      ],
      "text/plain": [
       "<plotly.tools.PlotlyDisplay object>"
      ]
     },
     "execution_count": 619,
     "metadata": {},
     "output_type": "execute_result"
    }
   ],
   "source": [
    "#\n",
    "def plot_listening_clock(week_df):\n",
    "    hour_dict = get_hour_dict(week_df)\n",
    "    theta = []\n",
    "    counts = []\n",
    "    data = []\n",
    "    hours_strings = []\n",
    "    for hour, count in hour_dict.items():\n",
    "        theta.append(hour*360/24)\n",
    "        counts.append(count)\n",
    "        hours_strings.append(hour)\n",
    "    i = 0\n",
    "    max_count = max(counts)\n",
    "    for item in theta:\n",
    "        angle = [0,item, item+ +180/12,0]\n",
    "        r = [0, counts[i],counts[i],0]\n",
    "        background = go.Scatterpolar(r = [0,max_count,max_count], theta = angle,\n",
    "            mode = 'lines', fill = 'toself', fillcolor = transparent, \n",
    "                   line =  dict(color = transparent),\n",
    "                   name = str(counts[i])+\" scrobbles\")\n",
    "        data.append(background)\n",
    "        temp_data = go.Scatterpolar(r = r, theta = angle,\n",
    "            mode = 'lines', fill = 'toself', fillcolor = color1,\n",
    "            line =  dict(color = \"white\"),name = str(counts[i])+\" scrobbles\")\n",
    "        data.append(temp_data)\n",
    "        i+=1\n",
    "    layout = go.Layout(showlegend = False,  \n",
    "          polar = dict(radialaxis = dict(tickfont = dict(size = 8),\n",
    "                  showgrid=False,visible=False), \n",
    "                  angularaxis = dict(tickfont = dict(size = 14),\n",
    "                  tickmode=\"array\",tickvals = theta,ticktext=hours_strings,\n",
    "                  rotation = 90, direction = \"clockwise\",showline=False)),\n",
    "                  width=400, height=300, \n",
    "                  margin=go.Margin(l=25, r=100, b=25, t=25, pad=4))\n",
    "    fig = go.Figure(data=data, layout=layout)\n",
    "    return py.iplot(fig, filename = 'Listening clock')\n",
    "plot_listening_clock(week_df)"
   ]
  },
  {
   "cell_type": "markdown",
   "metadata": {
    "extensions": {
     "jupyter_dashboards": {
      "version": 1,
      "views": {
       "grid_default": {
        "col": 1,
        "height": 2,
        "hidden": false,
        "row": 37,
        "width": 4
       },
       "report_default": {
        "hidden": false
       }
      }
     }
    }
   },
   "source": [
    "## Discoveries"
   ]
  },
  {
   "cell_type": "code",
   "execution_count": 620,
   "metadata": {
    "code_folding": [
     0,
     1
    ],
    "extensions": {
     "jupyter_dashboards": {
      "version": 1,
      "views": {
       "grid_default": {
        "col": 1,
        "height": 7,
        "hidden": false,
        "row": 39,
        "width": 4
       },
       "report_default": {
        "hidden": false
       }
      }
     }
    },
    "scrolled": true
   },
   "outputs": [
    {
     "data": {
      "text/markdown": [
       "**3** new artists were discovered. (7%)"
      ],
      "text/plain": [
       "<IPython.core.display.Markdown object>"
      ]
     },
     "metadata": {},
     "output_type": "display_data"
    },
    {
     "data": {
      "text/markdown": [
       "**mansionz** was your top artist discovery. (2)"
      ],
      "text/plain": [
       "<IPython.core.display.Markdown object>"
      ]
     },
     "metadata": {},
     "output_type": "display_data"
    },
    {
     "data": {
      "text/markdown": [
       "**35** new tracks were discovered. (31%)"
      ],
      "text/plain": [
       "<IPython.core.display.Markdown object>"
      ]
     },
     "metadata": {},
     "output_type": "display_data"
    },
    {
     "data": {
      "text/markdown": [
       "**Afraid** was your top track discovery. (2)"
      ],
      "text/plain": [
       "<IPython.core.display.Markdown object>"
      ]
     },
     "metadata": {},
     "output_type": "display_data"
    },
    {
     "data": {
      "text/markdown": [
       "**20** new albums were discovered. (27%)"
      ],
      "text/plain": [
       "<IPython.core.display.Markdown object>"
      ]
     },
     "metadata": {},
     "output_type": "display_data"
    },
    {
     "data": {
      "text/markdown": [
       "**To The Moon** was your top album discovery. (2)"
      ],
      "text/plain": [
       "<IPython.core.display.Markdown object>"
      ]
     },
     "metadata": {},
     "output_type": "display_data"
    }
   ],
   "source": [
    "#\n",
    "def get_new_items(week_df,overall_df):\n",
    "    items = [\"artist\", \"track\",\"album\"]\n",
    "    top_dict = {}\n",
    "    for item in items:\n",
    "        tot_items = len(week_df[item].unique())\n",
    "        first_scrobble_ts = week_df['timestamp'].iloc[-1]\n",
    "        old_df = overall_df.loc[(scrobbles_df[\"timestamp\"] < first_scrobble_ts)]\n",
    "        new_items = []\n",
    "        new_items_dict = {}\n",
    "        for index, row in week_df.iterrows():\n",
    "            item_on_row = row[item]\n",
    "            if item_on_row == \"\" or item_on_row ==\"nan\":\n",
    "                continue\n",
    "            elif any(old_df[item] == item_on_row):\n",
    "                continue\n",
    "            else:\n",
    "                try:\n",
    "                    if unicode(item_on_row,\"utf-8\") not in new_items:\n",
    "                        item_on_row = unicode(item_on_row,\"utf-8\")\n",
    "                        new_items.append(item_on_row)\n",
    "                        new_items_dict[item_on_row] = 1\n",
    "                    else:\n",
    "                        new_items_dict[item_on_row] +=1\n",
    "                except:\n",
    "                    1\n",
    "        top_key = max(new_items_dict, key=lambda k: new_items_dict[k])\n",
    "        top_count = new_items_dict[top_key]\n",
    "        top_dict[item] = top_key\n",
    "        num_new_items = len(new_items)\n",
    "        percentage = num_new_items*100/tot_items\n",
    "        display(Markdown(\"**{}** new {}s were discovered. ({}%)\".format(\n",
    "            num_new_items,item,percentage)))\n",
    "        display(Markdown(\"**\"+top_key+\"** was your top {} discovery. ({})\".format(\n",
    "            item,top_count)))\n",
    "    return top_dict\n",
    "top_dict = get_new_items(week_df,scrobbles_df)"
   ]
  },
  {
   "cell_type": "code",
   "execution_count": 621,
   "metadata": {
    "code_folding": [
     0
    ],
    "extensions": {
     "jupyter_dashboards": {
      "version": 1,
      "views": {
       "grid_default": {
        "col": 5,
        "height": 2,
        "hidden": false,
        "row": 37,
        "width": 6
       },
       "report_default": {}
      }
     }
    }
   },
   "outputs": [
    {
     "data": {
      "text/markdown": [
       "## Learn more about: mansionz"
      ],
      "text/plain": [
       "<IPython.core.display.Markdown object>"
      ]
     },
     "metadata": {},
     "output_type": "display_data"
    }
   ],
   "source": [
    "#\n",
    "artist_name = top_dict['artist']\n",
    "display(Markdown(\"## Learn more about: \" + artist_name))"
   ]
  },
  {
   "cell_type": "code",
   "execution_count": 622,
   "metadata": {
    "code_folding": [
     0,
     1
    ],
    "extensions": {
     "jupyter_dashboards": {
      "version": 1,
      "views": {
       "grid_default": {
        "col": 5,
        "height": 7,
        "hidden": false,
        "row": 39,
        "width": 6
       },
       "report_default": {}
      }
     }
    }
   },
   "outputs": [
    {
     "data": {
      "text/markdown": [
       "Mansionz (stylized as mansionz) is an American alternative hip hop duo composed of American singer-songwriter Mike Posner and American hip hop recording artist, producer, and singer Matthew Musto, better known by his stage name Blackbear. They released their debut studio album, Mansionz, on March 24, 2017.\n",
       "\n",
       "Mansionz was formed when longtime collaborators Matthew Musto (otherwise known as Blackbear) and Mike Posner formally came together and formed an R&B-rap duo. <a href=\"https://www.last.fm/music/mansionz\">Read more on Last.fm</a>"
      ],
      "text/plain": [
       "<IPython.core.display.Markdown object>"
      ]
     },
     "metadata": {},
     "output_type": "display_data"
    }
   ],
   "source": [
    "#\n",
    "url_str = (\"http://ws.audioscrobbler.com/2.0/?method=artist.getinfo&artist=\"+\n",
    "                artist_name+\"&api_key=\"+last_api_key)\n",
    "page = urllib.urlopen(url_str)\n",
    "parsed_page = xmltodict.parse(page)\n",
    "bio = parsed_page['lfm']['artist']['bio']\n",
    "summary = bio[\"summary\"]\n",
    "display(Markdown(summary))"
   ]
  },
  {
   "cell_type": "markdown",
   "metadata": {
    "extensions": {
     "jupyter_dashboards": {
      "version": 1,
      "views": {
       "grid_default": {
        "col": 1,
        "height": 2,
        "hidden": false,
        "row": 54,
        "width": 3
       },
       "report_default": {}
      }
     }
    }
   },
   "source": [
    "## Top tracks:"
   ]
  },
  {
   "cell_type": "code",
   "execution_count": 623,
   "metadata": {
    "code_folding": [
     0
    ],
    "extensions": {
     "jupyter_dashboards": {
      "version": 1,
      "views": {
       "grid_default": {
        "col": 1,
        "height": 6,
        "hidden": false,
        "row": 56,
        "width": 3
       },
       "report_default": {}
      }
     }
    },
    "scrolled": false
   },
   "outputs": [
    {
     "data": {
      "text/markdown": [
       "**Maybe IDK** (3)"
      ],
      "text/plain": [
       "<IPython.core.display.Markdown object>"
      ]
     },
     "metadata": {},
     "output_type": "display_data"
    },
    {
     "data": {
      "text/markdown": [
       "**Obsession (feat. Jon Bellion)** (2)"
      ],
      "text/plain": [
       "<IPython.core.display.Markdown object>"
      ]
     },
     "metadata": {},
     "output_type": "display_data"
    },
    {
     "data": {
      "text/markdown": [
       "**Breathe** (2)"
      ],
      "text/plain": [
       "<IPython.core.display.Markdown object>"
      ]
     },
     "metadata": {},
     "output_type": "display_data"
    },
    {
     "data": {
      "text/markdown": [
       "**Hand Of God - Outro** (2)"
      ],
      "text/plain": [
       "<IPython.core.display.Markdown object>"
      ]
     },
     "metadata": {},
     "output_type": "display_data"
    },
    {
     "data": {
      "text/markdown": [
       "**Same Drugs** (2)"
      ],
      "text/plain": [
       "<IPython.core.display.Markdown object>"
      ]
     },
     "metadata": {},
     "output_type": "display_data"
    }
   ],
   "source": [
    "#\n",
    "top_tracks = week_df.groupby(['track'])['track'].agg(\n",
    "    {\"count\": len}).sort_values(\n",
    "    \"count\", ascending=False).head(10).reset_index()\n",
    "for index,track in top_tracks.iloc[:5].iterrows():\n",
    "    display(Markdown(\"**\"+unicode(track['track'],\"utf-8\")+\"** ({})\".format(track['count'])))"
   ]
  },
  {
   "cell_type": "code",
   "execution_count": 624,
   "metadata": {
    "code_folding": [
     0,
     1
    ],
    "extensions": {
     "jupyter_dashboards": {
      "version": 1,
      "views": {
       "grid_default": {
        "col": 4,
        "height": 8,
        "hidden": false,
        "row": 54,
        "width": 3
       },
       "report_default": {}
      }
     }
    }
   },
   "outputs": [
    {
     "data": {
      "text/markdown": [
       "![alt text](https://lastfm-img2.akamaized.net/i/u/300x300/bf8ec059d42aa299906032caabec36fb.png)Maybe IDK"
      ],
      "text/plain": [
       "<IPython.core.display.Markdown object>"
      ]
     },
     "metadata": {},
     "output_type": "display_data"
    }
   ],
   "source": [
    "#\n",
    "def get_track_album_art():\n",
    "    for index,track in top_tracks.iterrows():\n",
    "        track_name = track[\"track\"]\n",
    "        temp_df = week_df[week_df[\"track\"]==track_name]\n",
    "        artist_name = temp_df.iloc[0][\"artist\"]\n",
    "        url_str = (\"http://ws.audioscrobbler.com/2.0/?method=track.getInfo&artist=\"+\n",
    "                        artist_name+\"&api_key=\"+last_api_key+\"&track=\"+track_name)\n",
    "        try:\n",
    "            page = urllib.urlopen(url_str)\n",
    "            parsed_page = xmltodict.parse(page)\n",
    "            images = parsed_page['lfm']['track']['album']['image']\n",
    "            for image in images:\n",
    "                if image[\"@size\"]==\"extralarge\":\n",
    "                    image_url = image[\"#text\"]\n",
    "                    display(Markdown(\"![alt text](\"+image_url+\")\"+track_name))\n",
    "                    return \n",
    "        except:1\n",
    "    print \"No image found.\"\n",
    "get_track_album_art()"
   ]
  },
  {
   "cell_type": "markdown",
   "metadata": {
    "extensions": {
     "jupyter_dashboards": {
      "version": 1,
      "views": {
       "grid_default": {
        "col": 1,
        "height": 2,
        "hidden": false,
        "row": 21,
        "width": 3
       },
       "report_default": {}
      }
     }
    }
   },
   "source": [
    "## Mainstream meter"
   ]
  },
  {
   "cell_type": "code",
   "execution_count": 625,
   "metadata": {
    "code_folding": [
     0,
     2
    ],
    "extensions": {
     "jupyter_dashboards": {
      "version": 1,
      "views": {
       "grid_default": {
        "hidden": true
       },
       "report_default": {}
      }
     }
    },
    "scrolled": true
   },
   "outputs": [],
   "source": [
    "#\n",
    "count = 0\n",
    "for index,artist in top_artists.iloc[:10].iterrows():\n",
    "    artist_name = artist[\"artist\"]\n",
    "    url_str = (\"http://ws.audioscrobbler.com/2.0/?method=artist.getinfo&artist=\"+\n",
    "                artist_name+\"&api_key=\"+last_api_key)\n",
    "    page = urllib.urlopen(url_str)\n",
    "    parsed_page = xmltodict.parse(page)\n",
    "    listener = parsed_page['lfm']['artist']['stats']['listeners']\n",
    "    count += int(listener)\n",
    "avg_count = count/10\n",
    "a = 0.000358\n",
    "b = 5.3366\n",
    "# a y = ax^b curve fit is used, where a and b are the constants\n",
    "mainstream_score = (avg_count/a)**(1/b)"
   ]
  },
  {
   "cell_type": "code",
   "execution_count": 626,
   "metadata": {
    "code_folding": [
     0,
     1,
     4,
     7
    ],
    "extensions": {
     "jupyter_dashboards": {
      "version": 1,
      "views": {
       "grid_default": {
        "col": 1,
        "height": 14,
        "hidden": false,
        "row": 23,
        "width": 3
       },
       "report_default": {}
      }
     }
    }
   },
   "outputs": [
    {
     "data": {
      "text/html": [
       "<iframe id=\"igraph\" scrolling=\"no\" style=\"border:none;\" seamless=\"seamless\" src=\"https://plot.ly/~vfrdfbdfngfthnhfht/8.embed\" height=\"400px\" width=\"350px\"></iframe>"
      ],
      "text/plain": [
       "<plotly.tools.PlotlyDisplay object>"
      ]
     },
     "execution_count": 626,
     "metadata": {},
     "output_type": "execute_result"
    }
   ],
   "source": [
    "#\n",
    "scale = ['What are you even listening to?', 'You have a special taste in music.',\n",
    "          'Not so mainstream.', 'Mainstream-ish.', 'Moderately mainstream.',\n",
    "          'Pure mainstream. Wow.']\n",
    "trace = [go.Scatter(x=[0.6], y=[mainstream_score],mode='marker',\n",
    "         hoverinfo='y', showlegend=False, xaxis='x',yaxis='y',\n",
    "         marker={'size': 10, 'color': color1})]\n",
    "shapes = [{'type': 'rect','x0': 0.1, 'x1': 1.1,'y0': 0, 'y1': 100,\n",
    "           'xref':'x', 'yref':'y'}]\n",
    "xaxes ={'range':[0, 4], 'showgrid': False, 'showline': False,\n",
    "         'zeroline': False, 'showticklabels': False}\n",
    "yaxes = {'anchor':'x', 'range':[-5,105], 'showgrid': False,\n",
    "         'showline': False, 'zeroline': False, 'ticks':'inside',\n",
    "         'ticklen': 30, 'ticktext':scale, 'tickwidth':3,\n",
    "         'tickvals':[0., 20.,40.,60.,80.,100.]}\n",
    "layout = {'shapes': shapes,'xaxis': xaxes,'yaxis': yaxes,\n",
    "          'autosize': False,'width': 350, 'height': 400,\n",
    "          \"margin\" : go.Margin(l=200, r=50, b=0, t=25, pad=4)}\n",
    "fig = dict(data=trace, layout=layout)\n",
    "py.iplot(fig, filename='Mainstream meter')"
   ]
  },
  {
   "cell_type": "markdown",
   "metadata": {
    "extensions": {
     "jupyter_dashboards": {
      "version": 1,
      "views": {
       "grid_default": {
        "col": 8,
        "height": 2,
        "hidden": false,
        "row": 46,
        "width": 3
       },
       "report_default": {
        "hidden": true
       }
      }
     }
    }
   },
   "source": [
    "## Top artists:"
   ]
  },
  {
   "cell_type": "code",
   "execution_count": 627,
   "metadata": {
    "code_folding": [
     0
    ],
    "extensions": {
     "jupyter_dashboards": {
      "version": 1,
      "views": {
       "grid_default": {
        "col": 8,
        "height": 6,
        "hidden": false,
        "row": 48,
        "width": 3
       },
       "report_default": {
        "hidden": true
       }
      }
     }
    }
   },
   "outputs": [
    {
     "data": {
      "text/markdown": [
       "**Jon Bellion** (29)"
      ],
      "text/plain": [
       "<IPython.core.display.Markdown object>"
      ]
     },
     "metadata": {},
     "output_type": "display_data"
    },
    {
     "data": {
      "text/markdown": [
       "**The Neighbourhood** (10)"
      ],
      "text/plain": [
       "<IPython.core.display.Markdown object>"
      ]
     },
     "metadata": {},
     "output_type": "display_data"
    },
    {
     "data": {
      "text/markdown": [
       "**Lauv** (10)"
      ],
      "text/plain": [
       "<IPython.core.display.Markdown object>"
      ]
     },
     "metadata": {},
     "output_type": "display_data"
    },
    {
     "data": {
      "text/markdown": [
       "**NF** (8)"
      ],
      "text/plain": [
       "<IPython.core.display.Markdown object>"
      ]
     },
     "metadata": {},
     "output_type": "display_data"
    },
    {
     "data": {
      "text/markdown": [
       "**Blackbear** (7)"
      ],
      "text/plain": [
       "<IPython.core.display.Markdown object>"
      ]
     },
     "metadata": {},
     "output_type": "display_data"
    }
   ],
   "source": [
    "#\n",
    "top_artists = week_df.groupby(['artist'])['artist'].agg(\n",
    "    {\"count\": len}).sort_values(\n",
    "    \"count\", ascending=False).head(10).reset_index()\n",
    "for index,artist in top_artists.iloc[:5].iterrows():\n",
    "    display(Markdown(\"**\"+unicode(artist['artist'],\"utf-8\")+\"** ({})\".format(artist[\"count\"])))"
   ]
  },
  {
   "cell_type": "code",
   "execution_count": 628,
   "metadata": {
    "code_folding": [
     0
    ],
    "extensions": {
     "jupyter_dashboards": {
      "version": 1,
      "views": {
       "grid_default": {
        "col": 5,
        "height": 8,
        "hidden": false,
        "row": 46,
        "width": 3
       },
       "report_default": {}
      }
     }
    }
   },
   "outputs": [
    {
     "data": {
      "text/markdown": [
       "![alt text](https://lastfm-img2.akamaized.net/i/u/300x300/4c5c29a6288506acc9f78ff99045fad8.png)Jon Bellion"
      ],
      "text/plain": [
       "<IPython.core.display.Markdown object>"
      ]
     },
     "metadata": {},
     "output_type": "display_data"
    }
   ],
   "source": [
    "#\n",
    "def get_artist_image():\n",
    "    for index,artist in top_artists.iterrows():\n",
    "        artist_name = artist[\"artist\"]\n",
    "        url_str = (\"http://ws.audioscrobbler.com/2.0/?method=artist.getinfo&artist=\"+\n",
    "                        artist_name+\"&api_key=\"+last_api_key)\n",
    "        page = urllib.urlopen(url_str)\n",
    "        parsed_page = xmltodict.parse(page)\n",
    "        images = parsed_page['lfm']['artist']['image']\n",
    "        for image in images:\n",
    "            if image[\"@size\"]==\"mega\":\n",
    "                image_url = image[\"#text\"]\n",
    "                display(Markdown(\"![alt text](\"+image_url+\")\"+artist_name))\n",
    "                return\n",
    "    print \"No image found.\"\n",
    "get_artist_image()"
   ]
  },
  {
   "cell_type": "markdown",
   "metadata": {
    "extensions": {
     "jupyter_dashboards": {
      "version": 1,
      "views": {
       "grid_default": {
        "hidden": true
       },
       "report_default": {
        "hidden": true
       }
      }
     }
    }
   },
   "source": [
    "## Top artists chart"
   ]
  },
  {
   "cell_type": "code",
   "execution_count": 629,
   "metadata": {
    "code_folding": [
     0,
     16
    ],
    "extensions": {
     "jupyter_dashboards": {
      "version": 1,
      "views": {
       "grid_default": {
        "col": 1,
        "height": 14,
        "hidden": false,
        "row": 62,
        "width": 10
       },
       "report_default": {}
      }
     }
    }
   },
   "outputs": [
    {
     "data": {
      "text/html": [
       "<iframe id=\"igraph\" scrolling=\"no\" style=\"border:none;\" seamless=\"seamless\" src=\"https://plot.ly/~vfrdfbdfngfthnhfht/6.embed\" height=\"400px\" width=\"800px\"></iframe>"
      ],
      "text/plain": [
       "<plotly.tools.PlotlyDisplay object>"
      ]
     },
     "execution_count": 629,
     "metadata": {},
     "output_type": "execute_result"
    }
   ],
   "source": [
    "#\n",
    "data1 = []\n",
    "for index,artist in top_artists.iterrows():\n",
    "    artist_df = week_df.loc[artist['artist'] == week_df[\"artist\"]]\n",
    "    artist_df = artist_df.sort_values(by=['timestamp'],ascending=True)\n",
    "    times = []\n",
    "    counts = []\n",
    "    count = 0\n",
    "    for index,row in artist_df.iterrows():\n",
    "        timestamp_int = int(row[\"timestamp\"])\n",
    "        times.append(datetime.datetime.fromtimestamp(timestamp_int))\n",
    "        count+=1\n",
    "        counts.append(count)\n",
    "    trace = go.Scatter(x = times, y = counts,name=artist['artist'],\n",
    "                       hoverinfo=\"y\")\n",
    "    data1.append(trace)\n",
    "layout = go.Layout(width=800, height=400, \n",
    "                   margin=go.Margin(l=0, r=100, b=25, t=25, pad=4))\n",
    "fig = go.Figure(data=data1, layout=layout)\n",
    "py.iplot(fig, filename='Top Artists Graph')"
   ]
  },
  {
   "cell_type": "markdown",
   "metadata": {
    "extensions": {
     "jupyter_dashboards": {
      "version": 1,
      "views": {
       "grid_default": {
        "col": 8,
        "height": 2,
        "hidden": false,
        "row": 54,
        "width": 3
       },
       "report_default": {}
      }
     }
    }
   },
   "source": [
    "## Top tags:"
   ]
  },
  {
   "cell_type": "code",
   "execution_count": 630,
   "metadata": {
    "code_folding": [
     0,
     2
    ],
    "extensions": {
     "jupyter_dashboards": {
      "version": 1,
      "views": {
       "grid_default": {
        "col": 8,
        "height": 6,
        "hidden": false,
        "row": 56,
        "width": 3
       },
       "report_default": {}
      }
     }
    }
   },
   "outputs": [
    {
     "data": {
      "text/markdown": [
       "**indie** (19)"
      ],
      "text/plain": [
       "<IPython.core.display.Markdown object>"
      ]
     },
     "metadata": {},
     "output_type": "display_data"
    },
    {
     "data": {
      "text/markdown": [
       "**alternative** (10)"
      ],
      "text/plain": [
       "<IPython.core.display.Markdown object>"
      ]
     },
     "metadata": {},
     "output_type": "display_data"
    },
    {
     "data": {
      "text/markdown": [
       "**Hip-Hop** (9)"
      ],
      "text/plain": [
       "<IPython.core.display.Markdown object>"
      ]
     },
     "metadata": {},
     "output_type": "display_data"
    },
    {
     "data": {
      "text/markdown": [
       "**electronic** (8)"
      ],
      "text/plain": [
       "<IPython.core.display.Markdown object>"
      ]
     },
     "metadata": {},
     "output_type": "display_data"
    },
    {
     "data": {
      "text/markdown": [
       "**pop** (7)"
      ],
      "text/plain": [
       "<IPython.core.display.Markdown object>"
      ]
     },
     "metadata": {},
     "output_type": "display_data"
    }
   ],
   "source": [
    "#\n",
    "tag_list = []\n",
    "for index, row in week_df.iterrows():\n",
    "    tags_string = row[\"tags\"]\n",
    "    try:\n",
    "        tags = [tag.strip() for tag in tags_string.split(',')]\n",
    "        tags = [x for x in tags if x != \"\"]\n",
    "        for tag in tags:\n",
    "            tag_list.append(tag)\n",
    "    except Exception,e:\n",
    "        1\n",
    "top_tags = Counter(tag_list).most_common()[:10]\n",
    "top_five = top_tags[:5]\n",
    "for tag in top_five:\n",
    "    display(Markdown(\"**\"+tag[0]+\"** ({})\".format(tag[1])))"
   ]
  },
  {
   "cell_type": "markdown",
   "metadata": {
    "extensions": {
     "jupyter_dashboards": {
      "version": 1,
      "views": {
       "grid_default": {
        "col": 3,
        "height": 2,
        "hidden": false,
        "row": 76,
        "width": 5
       },
       "report_default": {}
      }
     }
    }
   },
   "source": [
    "## Top tags chart"
   ]
  },
  {
   "cell_type": "code",
   "execution_count": 631,
   "metadata": {
    "code_folding": [
     0
    ],
    "extensions": {
     "jupyter_dashboards": {
      "version": 1,
      "views": {
       "grid_default": {
        "col": 3,
        "height": 15,
        "hidden": false,
        "row": 78,
        "width": 9
       },
       "report_default": {}
      }
     }
    }
   },
   "outputs": [
    {
     "data": {
      "text/html": [
       "<iframe id=\"igraph\" scrolling=\"no\" style=\"border:none;\" seamless=\"seamless\" src=\"https://plot.ly/~vfrdfbdfngfthnhfht/4.embed\" height=\"400px\" width=\"800px\"></iframe>"
      ],
      "text/plain": [
       "<plotly.tools.PlotlyDisplay object>"
      ]
     },
     "execution_count": 631,
     "metadata": {},
     "output_type": "execute_result"
    }
   ],
   "source": [
    "#\n",
    "counts_dict = {}\n",
    "count_dict = {}\n",
    "for tag in top_tags:\n",
    "    counts_dict[tag[0]] = []\n",
    "    count_dict[tag[0]] = 0\n",
    "times = []\n",
    "\n",
    "reverse_df = week_df.sort_values(by=['timestamp'],ascending=True)\n",
    "for index, row in reverse_df.iterrows():\n",
    "    tags_string = row[\"tags\"]\n",
    "    try:\n",
    "        timestamp_int = int(row[\"timestamp\"])\n",
    "        times.append(datetime.datetime.fromtimestamp(timestamp_int))\n",
    "        tags = [s.strip() for s in tags_string.split(',')]\n",
    "        tags = [x for x in tags if x != \"\"]\n",
    "        for item in tags:\n",
    "            for tag in top_tags:\n",
    "                if tag[0] ==item:\n",
    "                    count = count_dict[tag[0]] +1\n",
    "                else:\n",
    "                    count = count_dict[tag[0]]\n",
    "                count_dict[tag[0]] = count\n",
    "                counts_dict[tag[0]].append(count)\n",
    "    except:\n",
    "        1\n",
    "data2 = []\n",
    "for tag in top_tags:\n",
    "    counts = counts_dict[tag[0]]\n",
    "    trace = go.Scatter(x = times, y = counts,name=tag[0],\n",
    "                       hoverinfo=\"y\")\n",
    "    data2.append(trace)\n",
    "layout = go.Layout(width=800, height=400, \n",
    "                   margin=go.Margin(l=0, r=100, b=25, t=25, pad=4))\n",
    "fig = go.Figure(data=data2, layout=layout)\n",
    "py.iplot(fig, filename='Top Tags Graph')"
   ]
  },
  {
   "cell_type": "markdown",
   "metadata": {
    "extensions": {
     "jupyter_dashboards": {
      "version": 1,
      "views": {
       "grid_default": {
        "col": 1,
        "height": 2,
        "hidden": false,
        "row": 46,
        "width": 3
       },
       "report_default": {}
      }
     }
    }
   },
   "source": [
    "## Top albums"
   ]
  },
  {
   "cell_type": "code",
   "execution_count": 632,
   "metadata": {
    "code_folding": [
     0
    ],
    "extensions": {
     "jupyter_dashboards": {
      "version": 1,
      "views": {
       "grid_default": {
        "col": 1,
        "height": 6,
        "hidden": false,
        "row": 48,
        "width": 3
       },
       "report_default": {}
      }
     }
    }
   },
   "outputs": [
    {
     "data": {
      "text/markdown": [
       "**The Human Condition** (13)"
      ],
      "text/plain": [
       "<IPython.core.display.Markdown object>"
      ]
     },
     "metadata": {},
     "output_type": "display_data"
    },
    {
     "data": {
      "text/markdown": [
       "**Perception** (6)"
      ],
      "text/plain": [
       "<IPython.core.display.Markdown object>"
      ]
     },
     "metadata": {},
     "output_type": "display_data"
    },
    {
     "data": {
      "text/markdown": [
       "**Translations Through Speakers** (6)"
      ],
      "text/plain": [
       "<IPython.core.display.Markdown object>"
      ]
     },
     "metadata": {},
     "output_type": "display_data"
    },
    {
     "data": {
      "text/markdown": [
       "**The Definition** (6)"
      ],
      "text/plain": [
       "<IPython.core.display.Markdown object>"
      ]
     },
     "metadata": {},
     "output_type": "display_data"
    },
    {
     "data": {
      "text/markdown": [
       "**The Separation** (4)"
      ],
      "text/plain": [
       "<IPython.core.display.Markdown object>"
      ]
     },
     "metadata": {},
     "output_type": "display_data"
    }
   ],
   "source": [
    "#\n",
    "top_albums = week_df.groupby(['album'])['album'].agg(\n",
    "    {\"count\": len}).sort_values(\n",
    "    \"count\", ascending=False).head(10).reset_index()\n",
    "for index,album in top_albums.iloc[:5].iterrows():\n",
    "    display(Markdown(\"**\"+unicode(album['album'],\"utf-8\")+\"** ({})\".format(album[\"count\"])))"
   ]
  }
 ],
 "metadata": {
  "extensions": {
   "jupyter_dashboards": {
    "activeView": "grid_default",
    "version": 1,
    "views": {
     "grid_default": {
      "cellMargin": 10,
      "defaultCellHeight": 20,
      "maxColumns": 12,
      "name": "grid",
      "type": "grid"
     },
     "report_default": {
      "name": "report",
      "type": "report"
     }
    }
   }
  },
  "kernelspec": {
   "display_name": "Python 2",
   "language": "python",
   "name": "python2"
  },
  "language_info": {
   "codemirror_mode": {
    "name": "ipython",
    "version": 2
   },
   "file_extension": ".py",
   "mimetype": "text/x-python",
   "name": "python",
   "nbconvert_exporter": "python",
   "pygments_lexer": "ipython2",
   "version": "2.7.14"
  }
 },
 "nbformat": 4,
 "nbformat_minor": 2
}
