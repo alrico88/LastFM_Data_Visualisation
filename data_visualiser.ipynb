{
 "cells": [
  {
   "cell_type": "markdown",
   "metadata": {
    "extensions": {
     "jupyter_dashboards": {
      "version": 1,
      "views": {
       "grid_default": {
        "col": 0,
        "height": 18,
        "hidden": true,
        "row": 82,
        "width": 12
       },
       "report_default": {}
      }
     }
    }
   },
   "source": [
    "Welcome to Last.fm Data Visualiser!  \n",
    "  \n",
    "Before seeing your scrobbles come to life, go ahead and backup your scrobbles\n",
    "with **LastFM_Backup.py** first. That downloads all the scrobbles from your Last.fm account into a .csv file.\n",
    "There are a lot of tools to backup scrobbles into .csv, but I made my own because getting information\n",
    "on the tags in a scrobble is pretty important to me. This is also the reason why the backup takes a lot\n",
    "longer than other tools. But trust me, it's worthwhile! \n",
    "  \n",
    "1. Go to https://www.last.fm/api/account/create to create an API account. Call the application whatever you want, leave the other boxes blank and click submit. And then, **copy the API key**.\n",
    "2. Open **LastFM_Backup.py** with Notepad. Search for `YOUR_API_KEY` and replace it with the API KEY you obtained from step one.\n",
    "3. Open command prompt in this directory and type in the command `pip install -r Requirements.txt`\n",
    "4. To start the backup, open command prompt and type the command `python LastFM_Backup.py`.  \n",
    "5. Input your last.fm username and number of pages to fetch per cycle (I suggest 1-4.This is to minimise the number of calls each cycle to prevent crashing.)\n",
    "6. Be patient and wait for the backup to finish.    \n",
    "If the program crashes, just restart the LastFM_Backup.py and it will finish off the backup.  \n",
    "  \n",
    "### Make sure you are not scrobbling during the backup, or it will mess up your backup!!!\n",
    "\n",
    "Once backup is done,\n",
    "1. Come back to here and enter your Last.fm details in the cell below.\n",
    "2. Go to https://plot.ly and sign up for an account. This is for plotting the interactive graph in this notebook.\n",
    "3. Go to your plotly **account settings &rarr; API KEYS** and click **Regererate Key** to get an API KEY.\n",
    "4. Enter the ploty information in the cell below. \n",
    "5. (optional but **highly recommended**) To view an awesome dashboard of this notebook, go to http://jupyter-dashboards-layout.readthedocs.io/en/latest/getting-started.html and follow the installation and enabling instructions.\n",
    "6. Run the code and change the view to dashboard preview.\n",
    "![image](image/dashboard.png)\n",
    "\n",
    "The rest is pretty self explanatory. Have fun!"
   ]
  },
  {
   "cell_type": "code",
   "execution_count": 96,
   "metadata": {
    "extensions": {
     "jupyter_dashboards": {
      "version": 1,
      "views": {
       "grid_default": {
        "col": 1,
        "height": 2,
        "hidden": true,
        "row": 2,
        "width": 10
       },
       "report_default": {}
      }
     }
    }
   },
   "outputs": [],
   "source": [
    "username = \"lastfm_username\"\n",
    "last_api_key = \"lastfm_api_key\"\n",
    "plotly_username = 'plotly_username'\n",
    "plotly_api_key = 'plotly_api_key'"
   ]
  },
  {
   "cell_type": "code",
   "execution_count": 2,
   "metadata": {
    "code_folding": [],
    "extensions": {
     "jupyter_dashboards": {
      "version": 1,
      "views": {
       "grid_default": {
        "col": 0,
        "height": 4,
        "hidden": true,
        "row": 82,
        "width": 4
       },
       "report_default": {}
      }
     }
    }
   },
   "outputs": [
    {
     "name": "stdout",
     "output_type": "stream",
     "text": [
      "Populating the interactive namespace from numpy and matplotlib\n"
     ]
    }
   ],
   "source": [
    "# Import the pandas library.\n",
    "import pandas as pd\n",
    "from scipy.stats import mode\n",
    "import datetime as dt\n",
    "from datetime import datetime\n",
    "from datetime import timedelta\n",
    "import time\n",
    "from datetime import date\n",
    "from collections import Counter\n",
    "from collections import OrderedDict\n",
    "import warnings\n",
    "warnings.filterwarnings(action='ignore')\n",
    "#plotting\n",
    "import numpy as np\n",
    "import matplotlib.pyplot as plt\n",
    "%pylab inline\n",
    "#plot\n",
    "import plotly\n",
    "plotly.tools.set_credentials_file(username=plotly_username, \n",
    "                                  api_key=plotly_api_key)\n",
    "import plotly.plotly as py\n",
    "import plotly.graph_objs as go\n",
    "#display texts\n",
    "from IPython.display import display, Markdown, Latex\n",
    "from IPython.display import Javascript\n",
    "#widgets\n",
    "import ipywidgets as widgets\n",
    "from ipywidgets import  Layout\n",
    "#get images\n",
    "import urllib\n",
    "import xmltodict"
   ]
  },
  {
   "cell_type": "code",
   "execution_count": 3,
   "metadata": {
    "code_folding": [
     0
    ],
    "extensions": {
     "jupyter_dashboards": {
      "version": 1,
      "views": {
       "grid_default": {
        "col": 7,
        "height": 4,
        "hidden": false,
        "row": 2,
        "width": 4
       },
       "report_default": {
        "hidden": true
       }
      }
     }
    }
   },
   "outputs": [
    {
     "data": {
      "text/markdown": [
       "[![logo](./image/last.png)](https://www.last.fm/user/ongmk/listening-report/week 'Last.fm weekly report')"
      ],
      "text/plain": [
       "<IPython.core.display.Markdown object>"
      ]
     },
     "metadata": {},
     "output_type": "display_data"
    }
   ],
   "source": [
    "#get logo\n",
    "url = \"https://www.last.fm/user/{}/listening-report/week\".format(username)\n",
    "logo = \"![logo](./image/last.png)\"\n",
    "display(Markdown(\"[{}]({} 'Last.fm weekly report')\".format(logo,url)))"
   ]
  },
  {
   "cell_type": "code",
   "execution_count": 4,
   "metadata": {
    "code_folding": [
     0
    ],
    "extensions": {
     "jupyter_dashboards": {
      "version": 1,
      "views": {
       "grid_default": {
        "col": 4,
        "height": 3,
        "hidden": false,
        "row": 20,
        "width": 3
       },
       "report_default": {
        "hidden": true
       }
      }
     }
    }
   },
   "outputs": [],
   "source": [
    "#colours\n",
    "color1 = \"rgb(0,51,153)\"\n",
    "color2 = \"rgb(102,204,255)\"\n",
    "transparent = \"rgba(0,0,0,0)\""
   ]
  },
  {
   "cell_type": "code",
   "execution_count": 5,
   "metadata": {
    "code_folding": [
     0
    ],
    "extensions": {
     "jupyter_dashboards": {
      "version": 1,
      "views": {
       "grid_default": {
        "hidden": true
       },
       "report_default": {
        "hidden": true
       }
      }
     }
    }
   },
   "outputs": [],
   "source": [
    "#read data from csv\n",
    "scrobbles_df = pd.read_csv(username+\".csv\", header=None, dtype=str)\n",
    "scrobbles_df.columns = [\"week\", \"time\", \"artist\", \"artist_mbid\", \"track\", \n",
    "                     \"track_mbid\", \"album\", \"album_mbid\", \"tags\", \n",
    "                     \"album art\", \"timestamp\"]\n",
    "#make sure the scrobbles are in the right order\n",
    "scrobbles_df = scrobbles_df.sort_values(by=['timestamp'],ascending=False) "
   ]
  },
  {
   "cell_type": "code",
   "execution_count": 6,
   "metadata": {
    "code_folding": [
     0
    ],
    "extensions": {
     "jupyter_dashboards": {
      "version": 1,
      "views": {
       "grid_default": {
        "col": 1,
        "height": 3,
        "hidden": false,
        "row": 4,
        "width": 6
       },
       "report_default": {}
      }
     }
    }
   },
   "outputs": [
    {
     "data": {
      "application/vnd.jupyter.widget-view+json": {
       "model_id": "43e4ac0910974068b1781f1c47cf41fd",
       "version_major": 2,
       "version_minor": 0
      },
      "text/plain": [
       "A Jupyter Widget"
      ]
     },
     "metadata": {},
     "output_type": "display_data"
    },
    {
     "data": {
      "application/vnd.jupyter.widget-view+json": {
       "model_id": "3c6e1715d06741bfb98e6bf4f71c0e05",
       "version_major": 2,
       "version_minor": 0
      },
      "text/plain": [
       "A Jupyter Widget"
      ]
     },
     "metadata": {},
     "output_type": "display_data"
    },
    {
     "data": {
      "application/javascript": [
       "IPython.notebook.execute_cell_range(IPython.notebook.get_selected_index()+1, IPython.notebook.ncells())"
      ],
      "text/plain": [
       "<IPython.core.display.Javascript object>"
      ]
     },
     "metadata": {},
     "output_type": "display_data"
    },
    {
     "data": {
      "application/javascript": [
       "IPython.notebook.execute_cell_range(IPython.notebook.get_selected_index()+1, IPython.notebook.ncells())"
      ],
      "text/plain": [
       "<IPython.core.display.Javascript object>"
      ]
     },
     "metadata": {},
     "output_type": "display_data"
    },
    {
     "data": {
      "application/javascript": [
       "IPython.notebook.execute_cell_range(IPython.notebook.get_selected_index()+1, IPython.notebook.ncells())"
      ],
      "text/plain": [
       "<IPython.core.display.Javascript object>"
      ]
     },
     "metadata": {},
     "output_type": "display_data"
    }
   ],
   "source": [
    "#widgets\n",
    "last_week = datetime.date.today() - timedelta(days=7)\n",
    "end_date = widgets.DatePicker(description=\"End date\", value=datetime.date.today(),\n",
    "           layout=Layout(width='90%', height='30px'))\n",
    "start_date = widgets.DatePicker(description=\"Start date\", value=last_week,\n",
    "           layout=end_date.layout)\n",
    "def run_all(ev):\n",
    "    display(Javascript('IPython.notebook.execute_cell_range(IPython.notebook.get_selected_index()+1, IPython.notebook.ncells())'))\n",
    "button = widgets.Button(description=\"Enter\",layout = end_date.layout, \n",
    "                        disabled = False)\n",
    "button.on_click(run_all)\n",
    "ui =widgets.HBox([widgets.VBox([start_date]), widgets.VBox([end_date,button])])\n",
    "def f(a,b):\n",
    "    global end_date, length\n",
    "    start_date = a\n",
    "    end_date = b\n",
    "    del_days = end_date - start_date\n",
    "    if del_days.days <0:\n",
    "        button.disabled = True\n",
    "    else:\n",
    "        button.disabled = False\n",
    "    length = del_days.days+1\n",
    "    \n",
    "out = widgets.interactive_output(f, {'a': start_date, 'b': end_date})\n",
    "\n",
    "display(ui, out)"
   ]
  },
  {
   "cell_type": "markdown",
   "metadata": {
    "extensions": {
     "jupyter_dashboards": {
      "version": 1,
      "views": {
       "grid_default": {
        "col": 1,
        "height": 2,
        "hidden": false,
        "row": 2,
        "width": 3
       },
       "report_default": {
        "hidden": false
       }
      }
     }
    }
   },
   "source": [
    "# Last.fm summary"
   ]
  },
  {
   "cell_type": "code",
   "execution_count": 66,
   "metadata": {
    "code_folding": [],
    "extensions": {
     "jupyter_dashboards": {
      "version": 1,
      "views": {
       "grid_default": {
        "col": 4,
        "height": 2,
        "hidden": true,
        "row": 2,
        "width": 3
       },
       "report_default": {
        "hidden": false
       }
      }
     }
    },
    "scrolled": true
   },
   "outputs": [
    {
     "name": "stdout",
     "output_type": "stream",
     "text": [
      "from 2018-01-05 to 2018-01-07\n",
      "[1515110400.0, 1515369600.0] [1514851200.0, 1515110400.0]\n"
     ]
    }
   ],
   "source": [
    "#period is the number of days to visualise, default=7\n",
    "#previous period is the last period with the same length of time\n",
    "def get_week_strings(input_date=datetime.date.today(), period = 7):\n",
    "    time_difference = datetime.datetime.now()-datetime.datetime.utcnow()\n",
    "    end_date_at_00 = (dt.datetime.combine(input_date, \n",
    "                  dt.datetime.min.time())+timedelta(days=1))\n",
    "    end_timestamp = time.mktime(end_date_at_00.timetuple())\n",
    "    start_datetime = end_date_at_00 - timedelta(days=period)\n",
    "    start_timestamp = time.mktime(start_datetime.timetuple())\n",
    "    _end_datetime = start_datetime\n",
    "    _end_timestamp = time.mktime(_end_datetime.timetuple())\n",
    "    _start_datetime = _end_datetime - timedelta(days=period)\n",
    "    _start_timestamp = time.mktime(_start_datetime.timetuple())\n",
    "    start_datetime = datetime.datetime.fromtimestamp(\n",
    "        int(start_timestamp)).strftime('%Y-%m-%d')\n",
    "    print 'from {} to {}'.format(start_datetime,\n",
    "                (end_date_at_00-timedelta(days=1)).strftime('%Y-%m-%d'))\n",
    "    return [start_timestamp,end_timestamp], [_start_timestamp,_end_timestamp]\n",
    "# now = datetime.date(2018,4, 1)\n",
    "period,previous_period = get_week_strings(end_date,length)\n",
    "print period, previous_period"
   ]
  },
  {
   "cell_type": "code",
   "execution_count": 67,
   "metadata": {
    "code_folding": [],
    "extensions": {
     "jupyter_dashboards": {
      "version": 1,
      "views": {
       "grid_default": {
        "col": 1,
        "height": 2,
        "hidden": false,
        "row": 0,
        "width": 10
       },
       "report_default": {
        "hidden": false
       }
      }
     }
    }
   },
   "outputs": [],
   "source": [
    "#filter dataframe to last week\n",
    "temp_df = scrobbles_df.loc[(period[0] <= scrobbles_df[\"timestamp\"].astype(int))]\n",
    "week_df = temp_df.loc[(temp_df[\"timestamp\"].astype(int) < period[1])]\n",
    "temp_df = scrobbles_df.loc[(previous_period[0] <= scrobbles_df[\"timestamp\"].astype(int))]\n",
    "week_before_df = temp_df.loc[(temp_df[\"timestamp\"].astype(int) < previous_period[1])]\n",
    "\n",
    "first_timestamp = scrobbles_df[\"timestamp\"].min()\n",
    "last_timestamp = scrobbles_df[\"timestamp\"].max()\n",
    "start = datetime.datetime.fromtimestamp(int(first_timestamp)).strftime('%Y-%m-%d')\n",
    "end = datetime.datetime.fromtimestamp(int(last_timestamp)).strftime('%Y-%m-%d')\n",
    "if week_df[\"timestamp\"].count() == 0:\n",
    "    display(Markdown(\"<span style='color:red;font-size:2em;'>Date out of range. Enter dates between {} and {}.</span>\".format(start,end)))"
   ]
  },
  {
   "cell_type": "code",
   "execution_count": 68,
   "metadata": {
    "code_folding": [],
    "extensions": {
     "jupyter_dashboards": {
      "version": 1,
      "views": {
       "grid_default": {
        "col": 4,
        "height": 5,
        "hidden": true,
        "row": 22,
        "width": 4
       },
       "report_default": {
        "hidden": false
       }
      }
     }
    }
   },
   "outputs": [],
   "source": [
    "#get data per day last week and last last week\n",
    "def get_scrobble_per_day(week_df):\n",
    "    day_dict = {}\n",
    "    days = [\"Mon\",\"Tue\",\"Wed\",\"Thu\",\"Fri\",\"Sat\",\"Sun\"]\n",
    "    hour_dict = {}\n",
    "    for day in days:\n",
    "        day_dict[day] = 0\n",
    "    for index, row in week_df.iterrows():\n",
    "        datetime_object = datetime.datetime.fromtimestamp(int(row[\"timestamp\"]))\n",
    "        day_int = datetime_object.weekday()\n",
    "        day_str = days[day_int]\n",
    "        day_dict[day_str] += 1\n",
    "    keyorder = [\"Fri\",\"Sat\",\"Sun\",\"Mon\",\"Tue\",\"Wed\",\"Thu\"]\n",
    "    day_dict = OrderedDict(sorted(day_dict.items(), \n",
    "                                  key=lambda i:keyorder.index(i[0])))\n",
    "    return day_dict"
   ]
  },
  {
   "cell_type": "markdown",
   "metadata": {
    "extensions": {
     "jupyter_dashboards": {
      "version": 1,
      "views": {
       "grid_default": {
        "col": 1,
        "height": 2,
        "hidden": false,
        "row": 7,
        "width": 6
       },
       "report_default": {}
      }
     }
    }
   },
   "source": [
    "## Scrobbles each day"
   ]
  },
  {
   "cell_type": "code",
   "execution_count": 69,
   "metadata": {
    "code_folding": [],
    "extensions": {
     "jupyter_dashboards": {
      "version": 1,
      "views": {
       "grid_default": {
        "col": 1,
        "height": 11,
        "hidden": false,
        "row": 9,
        "width": 10
       },
       "report_default": {
        "hidden": false
       }
      }
     }
    }
   },
   "outputs": [
    {
     "name": "stdout",
     "output_type": "stream",
     "text": [
      "High five! You successfully sent some data to your account on plotly. View your plot in your browser at https://plot.ly/~askdfiuuhiuvbidvbksdhbfv/0 or inside your plot.ly account where it is named 'WeekdayChart'\n"
     ]
    },
    {
     "data": {
      "text/html": [
       "<iframe id=\"igraph\" scrolling=\"no\" style=\"border:none;\" seamless=\"seamless\" src=\"https://plot.ly/~askdfiuuhiuvbidvbksdhbfv/0.embed\" height=\"300px\" width=\"800px\"></iframe>"
      ],
      "text/plain": [
       "<plotly.tools.PlotlyDisplay object>"
      ]
     },
     "execution_count": 69,
     "metadata": {},
     "output_type": "execute_result"
    }
   ],
   "source": [
    "#\n",
    "def plot_weekday_chart(week_df,week_before_df):\n",
    "    week_before_dict = get_scrobble_per_day(week_before_df)\n",
    "    week_dict = get_scrobble_per_day(week_df)\n",
    "    days = [\"Fri\",\"Sat\",\"Sun\",\"Mon\",\"Tue\",\"Wed\",\"Thu\"]\n",
    "    trace2 = go.Bar(x=days, y=list(week_before_dict.values()), name='Previous period',\n",
    "                    marker=dict(color=color2))\n",
    "    trace1 = go.Bar(x=days, y=list(week_dict.values()),\n",
    "                    name='This period',marker=dict(color=color1))\n",
    "    data = [trace2,trace1]\n",
    "    layout = go.Layout(barmode='group',width=800,\n",
    "                       height=300, margin=go.Margin(l=100, r=0, b=50,\n",
    "                                                    t=0, pad=4),\n",
    "                      yaxis=dict(title='Scrobbles',showticklabels=True))\n",
    "    fig = go.Figure(data=data, layout=layout)\n",
    "    return py.iplot(fig, filename='WeekdayChart')\n",
    "plot_weekday_chart(week_df,week_before_df)"
   ]
  },
  {
   "cell_type": "markdown",
   "metadata": {
    "extensions": {
     "jupyter_dashboards": {
      "version": 1,
      "views": {
       "grid_default": {
        "col": 1,
        "height": 2,
        "hidden": true,
        "row": 39,
        "width": 1
       },
       "report_default": {
        "hidden": false
       }
      }
     }
    }
   },
   "source": [
    "## Tops:"
   ]
  },
  {
   "cell_type": "code",
   "execution_count": 70,
   "metadata": {
    "code_folding": [],
    "extensions": {
     "jupyter_dashboards": {
      "version": 1,
      "views": {
       "grid_default": {
        "col": 4,
        "height": 13,
        "hidden": false,
        "row": 23,
        "width": 3
       },
       "report_default": {
        "hidden": false
       }
      }
     }
    }
   },
   "outputs": [
    {
     "data": {
      "text/markdown": [
       "### You had"
      ],
      "text/plain": [
       "<IPython.core.display.Markdown object>"
      ]
     },
     "metadata": {},
     "output_type": "display_data"
    },
    {
     "data": {
      "text/markdown": [
       "# *_542_* scrobbles"
      ],
      "text/plain": [
       "<IPython.core.display.Markdown object>"
      ]
     },
     "metadata": {},
     "output_type": "display_data"
    },
    {
     "data": {
      "text/markdown": [
       "### Or "
      ],
      "text/plain": [
       "<IPython.core.display.Markdown object>"
      ]
     },
     "metadata": {},
     "output_type": "display_data"
    },
    {
     "data": {
      "text/markdown": [
       "# **1** day, **7** hours"
      ],
      "text/plain": [
       "<IPython.core.display.Markdown object>"
      ]
     },
     "metadata": {},
     "output_type": "display_data"
    },
    {
     "data": {
      "text/markdown": [
       "### of awesomeness!!"
      ],
      "text/plain": [
       "<IPython.core.display.Markdown object>"
      ]
     },
     "metadata": {},
     "output_type": "display_data"
    }
   ],
   "source": [
    "#listening time\n",
    "def get_listening_time(week_df):\n",
    "    total_time = 0\n",
    "    track_list = []\n",
    "    stop_timer = True\n",
    "    start_timestamp = 0\n",
    "    stop_count = 0\n",
    "    first_index = week_df.index[0]\n",
    "    for index, row in week_df.iterrows():\n",
    "        timestamp = int(row[\"timestamp\"])\n",
    "        if stop_timer:\n",
    "            start_timestamp = timestamp\n",
    "        try:\n",
    "            next_timestamp = int(week_df.iloc[index-first_index+1][\"timestamp\"])\n",
    "        except:\n",
    "            next_timestamp = 99999999999\n",
    "        if timestamp - next_timestamp <=300:\n",
    "            stop_timer = False\n",
    "        else:\n",
    "            total_time += start_timestamp - timestamp + 180  \n",
    "            #180s is the average length of a song, this is added\n",
    "            #to account for the discontinued time data\n",
    "            stop_timer = True\n",
    "    hour = total_time/3600\n",
    "    day = int(hour/24)\n",
    "    hour = hour-24*day\n",
    "    display(Markdown(\"### You had\"))\n",
    "    total_scrobbles = week_df['timestamp'].count()\n",
    "    display(Markdown(\"# *_{}_* scrobbles\".format(str(total_scrobbles))))\n",
    "    display(Markdown(\"### Or \"))\n",
    "    if hour == 0:\n",
    "        display(Markdown(\"# **{}** hours\".format(day,hour)))\n",
    "    else:\n",
    "        display(Markdown(\"# **{}** day, **{}** hours\".format(day,hour)))\n",
    "    display(Markdown(\"### of awesomeness!!\"))\n",
    "get_listening_time(week_df)"
   ]
  },
  {
   "cell_type": "markdown",
   "metadata": {
    "extensions": {
     "jupyter_dashboards": {
      "version": 1,
      "views": {
       "grid_default": {
        "col": 8,
        "height": 2,
        "hidden": false,
        "row": 20,
        "width": 2
       },
       "report_default": {
        "hidden": false
       }
      }
     }
    }
   },
   "source": [
    "## Listening clock"
   ]
  },
  {
   "cell_type": "code",
   "execution_count": 71,
   "metadata": {
    "code_folding": [
     0,
     1
    ],
    "extensions": {
     "jupyter_dashboards": {
      "version": 1,
      "views": {
       "grid_default": {
        "col": 1,
        "height": 4,
        "hidden": true,
        "row": 11,
        "width": 3
       },
       "report_default": {
        "hidden": false
       }
      }
     }
    }
   },
   "outputs": [],
   "source": [
    "#\n",
    "def get_hour_dict(week_df):\n",
    "    hours = range(0, 24)\n",
    "    hour_dict = {}\n",
    "    for hour in hours:\n",
    "        hour_dict[hour] = 0\n",
    "    for index, row in week_df.iterrows():\n",
    "        datetime_object = dt.datetime.strptime(row[\"time\"], '%d %b %Y, %H:%M')\n",
    "        hour = datetime_object.hour\n",
    "        hour_dict[hour] += 1\n",
    "    return hour_dict"
   ]
  },
  {
   "cell_type": "code",
   "execution_count": 72,
   "metadata": {
    "code_folding": [],
    "extensions": {
     "jupyter_dashboards": {
      "version": 1,
      "views": {
       "grid_default": {
        "col": 7,
        "height": 14,
        "hidden": false,
        "row": 22,
        "width": 4
       },
       "report_default": {
        "hidden": false
       }
      }
     }
    }
   },
   "outputs": [
    {
     "data": {
      "text/html": [
       "<iframe id=\"igraph\" scrolling=\"no\" style=\"border:none;\" seamless=\"seamless\" src=\"https://plot.ly/~askdfiuuhiuvbidvbksdhbfv/2.embed\" height=\"300px\" width=\"400px\"></iframe>"
      ],
      "text/plain": [
       "<plotly.tools.PlotlyDisplay object>"
      ]
     },
     "execution_count": 72,
     "metadata": {},
     "output_type": "execute_result"
    }
   ],
   "source": [
    "#\n",
    "def plot_listening_clock(week_df):\n",
    "    hour_dict = get_hour_dict(week_df)\n",
    "    theta = []\n",
    "    counts = []\n",
    "    data = []\n",
    "    hours_strings = []\n",
    "    for hour, count in hour_dict.items():\n",
    "        theta.append(hour*360/24)\n",
    "        counts.append(count)\n",
    "        hours_strings.append(hour)\n",
    "    i = 0\n",
    "    max_count = max(counts)\n",
    "    for item in theta:\n",
    "        angle = [0,item, item+ +180/12,0]\n",
    "        r = [0, counts[i],counts[i],0]\n",
    "        background = go.Scatterpolar(r = [0,max_count,max_count], theta = angle,\n",
    "            mode = 'lines', fill = 'toself', fillcolor = transparent, \n",
    "                   line =  dict(color = transparent),\n",
    "                   name = str(counts[i])+\" scrobbles\")\n",
    "        data.append(background)\n",
    "        temp_data = go.Scatterpolar(r = r, theta = angle,\n",
    "            mode = 'lines', fill = 'toself', fillcolor = color1,\n",
    "            line =  dict(color = \"white\"),name = str(counts[i])+\" scrobbles\")\n",
    "        data.append(temp_data)\n",
    "        i+=1\n",
    "    layout = go.Layout(showlegend = False,  \n",
    "          polar = dict(radialaxis = dict(tickfont = dict(size = 8),\n",
    "                  showgrid=False,visible=False), \n",
    "                  angularaxis = dict(tickfont = dict(size = 14),\n",
    "                  tickmode=\"array\",tickvals = theta,ticktext=hours_strings,\n",
    "                  rotation = 90, direction = \"clockwise\",showline=False)),\n",
    "                  width=400, height=300, \n",
    "                  margin=go.Margin(l=25, r=100, b=25, t=25, pad=4))\n",
    "    fig = go.Figure(data=data, layout=layout)\n",
    "    return py.iplot(fig, filename = 'Listening clock')\n",
    "plot_listening_clock(week_df)"
   ]
  },
  {
   "cell_type": "markdown",
   "metadata": {
    "extensions": {
     "jupyter_dashboards": {
      "version": 1,
      "views": {
       "grid_default": {
        "col": 1,
        "height": 2,
        "hidden": false,
        "row": 36,
        "width": 4
       },
       "report_default": {
        "hidden": false
       }
      }
     }
    }
   },
   "source": [
    "## Discoveries"
   ]
  },
  {
   "cell_type": "code",
   "execution_count": 73,
   "metadata": {
    "code_folding": [
     0
    ],
    "extensions": {
     "jupyter_dashboards": {
      "version": 1,
      "views": {
       "grid_default": {
        "hidden": true
       },
       "report_default": {}
      }
     }
    }
   },
   "outputs": [],
   "source": [
    "def get_artist_image(artist_name):\n",
    "    url_str = (\"http://ws.audioscrobbler.com/2.0/?method=artist.getinfo&artist=\"+\n",
    "               artist_name+\"&api_key=\"+last_api_key)\n",
    "    try:\n",
    "        page = urllib.urlopen(url_str)\n",
    "        parsed_page = xmltodict.parse(page)\n",
    "        images = parsed_page['lfm']['artist']['image']\n",
    "        for size in [\"mega\",\"extralarge\",\"large\"]:\n",
    "            for image in images:\n",
    "                if image[\"@size\"]==size:\n",
    "                    image_url = image[\"#text\"]\n",
    "                    return image_url\n",
    "        return 0\n",
    "    except:\n",
    "        return 0"
   ]
  },
  {
   "cell_type": "code",
   "execution_count": 74,
   "metadata": {
    "code_folding": [],
    "extensions": {
     "jupyter_dashboards": {
      "version": 1,
      "views": {
       "grid_default": {
        "hidden": true
       },
       "report_default": {
        "hidden": true
       }
      }
     }
    }
   },
   "outputs": [],
   "source": [
    "def get_track_album_art(artist_name, track_name):\n",
    "    url_str = (\"http://ws.audioscrobbler.com/2.0/?method=track.getInfo&artist=\"+\n",
    "                    artist_name+\"&api_key=\"+last_api_key+\"&track=\"+track_name)\n",
    "    try:\n",
    "        page = urllib.urlopen(url_str)\n",
    "        parsed_page = xmltodict.parse(page)\n",
    "        images = parsed_page['lfm']['track']['album']['image']\n",
    "        for size in [\"extralarge\",\"large\",\"medium\"]:\n",
    "            for image in images:\n",
    "                if image[\"@size\"]==size:\n",
    "                    image_url = image[\"#text\"]\n",
    "                    return image_url\n",
    "        return 0\n",
    "    except:\n",
    "        return 0"
   ]
  },
  {
   "cell_type": "code",
   "execution_count": 75,
   "metadata": {
    "code_folding": [],
    "extensions": {
     "jupyter_dashboards": {
      "version": 1,
      "views": {
       "grid_default": {
        "hidden": true
       },
       "report_default": {}
      }
     }
    }
   },
   "outputs": [],
   "source": [
    "def get_album_art(artist_name, album_name):\n",
    "    url_str = (\"http://ws.audioscrobbler.com/2.0/?method=album.getInfo&artist=\"+\n",
    "                    artist_name+\"&api_key=\"+last_api_key+\"&album=\"+album_name)\n",
    "    try:\n",
    "        page = urllib.urlopen(url_str)\n",
    "        parsed_page = xmltodict.parse(page)\n",
    "        images = parsed_page['lfm']['album']['image']\n",
    "        for size in [\"mega\",\"extralarge\",\"large\"]:\n",
    "            for image in images:\n",
    "                if image[\"@size\"]==\"mega\":\n",
    "                    image_url = image[\"#text\"]\n",
    "                    return image_url\n",
    "        return 0\n",
    "    except Exception,e:\n",
    "        return 0"
   ]
  },
  {
   "cell_type": "code",
   "execution_count": 76,
   "metadata": {
    "extensions": {
     "jupyter_dashboards": {
      "version": 1,
      "views": {
       "grid_default": {
        "hidden": true
       },
       "report_default": {
        "hidden": true
       }
      }
     }
    }
   },
   "outputs": [],
   "source": [
    "def discovery_formatter(image_url,str1,str2=\"\"):\n",
    "    display(Markdown(\"\"\"<div>\n",
    "                        <p style=\"float: left;\">\n",
    "                            <img src={} height=\"70px\" width=\"70px\" style=\"margin: 0px 20px 0px 0px\"></p>\n",
    "                        <p><span>{}</span></p>\n",
    "                        <p><span>{}</span></p>\n",
    "                    </div>\"\"\".format(image_url,str1,str2)))"
   ]
  },
  {
   "cell_type": "code",
   "execution_count": 77,
   "metadata": {
    "code_folding": [],
    "extensions": {
     "jupyter_dashboards": {
      "version": 1,
      "views": {
       "grid_default": {
        "col": 1,
        "height": 11,
        "hidden": false,
        "row": 38,
        "width": 5
       },
       "report_default": {
        "hidden": false
       }
      }
     }
    },
    "scrolled": true
   },
   "outputs": [
    {
     "data": {
      "text/markdown": [
       "<div>\n",
       "                        <p style=\"float: left;\">\n",
       "                            <img src=https://lastfm-img2.akamaized.net/i/u/300x300/047a20990f8ffd0442352e67c4e0bcdc.png height=\"70px\" width=\"70px\" style=\"margin: 0px 20px 0px 0px\"></p>\n",
       "                        <p><span>**247** new artists were discovered. (100%)</span></p>\n",
       "                        <p><span>**The Beatles** was your top artist discovery. (22)<br /><br /></span></p>\n",
       "                    </div>"
      ],
      "text/plain": [
       "<IPython.core.display.Markdown object>"
      ]
     },
     "metadata": {},
     "output_type": "display_data"
    },
    {
     "data": {
      "text/markdown": [
       "<div>\n",
       "                        <p style=\"float: left;\">\n",
       "                            <img src=https://lastfm-img2.akamaized.net/i/u/300x300/f0a44aac5ba02d6e7b71d860bec0a91d.png height=\"70px\" width=\"70px\" style=\"margin: 0px 20px 0px 0px\"></p>\n",
       "                        <p><span>**451** new tracks were discovered. (100%)</span></p>\n",
       "                        <p><span>**All Falls Down** was your top track discovery. (5)<br /><br /></span></p>\n",
       "                    </div>"
      ],
      "text/plain": [
       "<IPython.core.display.Markdown object>"
      ]
     },
     "metadata": {},
     "output_type": "display_data"
    },
    {
     "data": {
      "text/markdown": [
       "<div>\n",
       "                        <p style=\"float: left;\">\n",
       "                            <img src=0 height=\"70px\" width=\"70px\" style=\"margin: 0px 20px 0px 0px\"></p>\n",
       "                        <p><span>**369** new albums were discovered. (99%)</span></p>\n",
       "                        <p><span>**Doo-Wops & Hooligans** was your top album discovery. (8)<br /><br /></span></p>\n",
       "                    </div>"
      ],
      "text/plain": [
       "<IPython.core.display.Markdown object>"
      ]
     },
     "metadata": {},
     "output_type": "display_data"
    }
   ],
   "source": [
    "#\n",
    "def get_new_items(week_df,overall_df):\n",
    "    items = [\"artist\", \"track\",\"album\"]\n",
    "    top_dict = {}\n",
    "    for item in items:\n",
    "        tot_items = len(week_df[item].unique())\n",
    "        first_scrobble_ts = week_df['timestamp'].iloc[-1]\n",
    "        old_df = overall_df.loc[(scrobbles_df[\"timestamp\"] < first_scrobble_ts)]\n",
    "        new_items = []\n",
    "        new_items_dict = {}\n",
    "        for index, row in week_df.iterrows():\n",
    "            item_on_row = row[item]\n",
    "            if item_on_row == \"\" or item_on_row ==\"nan\":\n",
    "                continue\n",
    "            elif any(old_df[item] == item_on_row):\n",
    "                continue\n",
    "            else:\n",
    "                try:\n",
    "                    if unicode(item_on_row,\"utf-8\") not in new_items:\n",
    "                        item_on_row = unicode(item_on_row,\"utf-8\")\n",
    "                        new_items.append(item_on_row)\n",
    "                        new_items_dict[item_on_row] = 1\n",
    "                    else:\n",
    "                        new_items_dict[item_on_row] +=1\n",
    "                except:\n",
    "                    1\n",
    "        top_key = max(new_items_dict, key=lambda k: new_items_dict[k])\n",
    "        top_count = new_items_dict[top_key]\n",
    "        top_dict[item] = top_key\n",
    "        num_new_items = len(new_items)\n",
    "        percentage = num_new_items*100/tot_items\n",
    "        str1 = \"**{}** new {}s were discovered. ({}%)\".format(num_new_items,item,percentage)\n",
    "        str2 = \"**\"+top_key.encode('ascii', 'xmlcharrefreplace')+\"** was your top {} discovery. ({})<br /><br />\".format(\n",
    "            item,top_count)\n",
    "        if item == \"artist\":\n",
    "            url = get_artist_image(top_key.encode('utf-8'))\n",
    "        elif item == \"track\":\n",
    "            temp_df = week_df[week_df[\"track\"]==top_key]\n",
    "            artist_name = temp_df.iloc[0][\"artist\"]\n",
    "            url = get_track_album_art(artist_name,top_key.encode('utf-8'))\n",
    "        elif item == \"album\":\n",
    "            temp_df = week_df[week_df[\"album\"]==top_key]\n",
    "            artist_name = temp_df.iloc[0][\"artist\"]\n",
    "            url = get_album_art(artist_name,top_key.encode('utf-8'))\n",
    "        discovery_formatter(url,str1,str2)\n",
    "    return top_dict\n",
    "top_dict = get_new_items(week_df,scrobbles_df)"
   ]
  },
  {
   "cell_type": "code",
   "execution_count": 78,
   "metadata": {
    "code_folding": [],
    "extensions": {
     "jupyter_dashboards": {
      "version": 1,
      "views": {
       "grid_default": {
        "col": 6,
        "height": 2,
        "hidden": false,
        "row": 36,
        "width": 5
       },
       "report_default": {}
      }
     }
    },
    "scrolled": true
   },
   "outputs": [
    {
     "data": {
      "text/markdown": [
       "## Learn more about: The Beatles"
      ],
      "text/plain": [
       "<IPython.core.display.Markdown object>"
      ]
     },
     "metadata": {},
     "output_type": "display_data"
    }
   ],
   "source": [
    "#\n",
    "display(Markdown(\"## Learn more about: \" + top_dict[\"artist\"]))"
   ]
  },
  {
   "cell_type": "code",
   "execution_count": 79,
   "metadata": {
    "extensions": {
     "jupyter_dashboards": {
      "version": 1,
      "views": {
       "grid_default": {
        "hidden": true
       },
       "report_default": {
        "hidden": true
       }
      }
     }
    }
   },
   "outputs": [],
   "source": [
    "def learn_more_formatter(image_url,str1):\n",
    "    display(Markdown(\"\"\"<div>\n",
    "                        <p style=\"float: left;\">\n",
    "                            <img src={} height=\"200\" width=\"200px\" style=\"margin: 0px 20px 20px 0px\"></p>\n",
    "                        <p><span>{}</span></p>\n",
    "                    </div>\"\"\".format(image_url,str1)))"
   ]
  },
  {
   "cell_type": "code",
   "execution_count": 80,
   "metadata": {
    "code_folding": [],
    "extensions": {
     "jupyter_dashboards": {
      "version": 1,
      "views": {
       "grid_default": {
        "col": 6,
        "height": 11,
        "hidden": false,
        "row": 38,
        "width": 5
       },
       "report_default": {}
      }
     }
    }
   },
   "outputs": [
    {
     "data": {
      "text/markdown": [
       "<div>\n",
       "                        <p style=\"float: left;\">\n",
       "                            <img src=https://lastfm-img2.akamaized.net/i/u/300x300/047a20990f8ffd0442352e67c4e0bcdc.png height=\"200\" width=\"200px\" style=\"margin: 0px 20px 20px 0px\"></p>\n",
       "                        <p><span>The Beatles were an iconic rock group from Liverpool, England. They are frequently cited as the most commercially successful and critically acclaimed band in modern history, with innovative music, a cultural impact that helped define the 1960s and an enormous influence on music that is still felt today. Currently, The Beatles are one of the two musical acts to sell more than 1 billion records, with only Elvis Presley having been able to achieve the same feat. <a href=\"https://www.last.fm/music/The+Beatles\">Read more on Last.fm</a></span></p>\n",
       "                    </div>"
      ],
      "text/plain": [
       "<IPython.core.display.Markdown object>"
      ]
     },
     "metadata": {},
     "output_type": "display_data"
    }
   ],
   "source": [
    "#\n",
    "try:\n",
    "    url_str = (\"http://ws.audioscrobbler.com/2.0/?method=artist.getinfo&artist=\"+\n",
    "                    top_dict[\"artist\"].encode('ascii', 'xmlcharrefreplace')+\"&api_key=\"+last_api_key)\n",
    "    page = urllib.urlopen(url_str)\n",
    "    parsed_page = xmltodict.parse(page)\n",
    "    bio = parsed_page['lfm']['artist']['bio']\n",
    "    summary = bio[\"summary\"]\n",
    "except:\n",
    "    summary = \"No summary found.\"\n",
    "url = get_artist_image(top_dict[\"artist\"])\n",
    "learn_more_formatter(url, summary)"
   ]
  },
  {
   "cell_type": "markdown",
   "metadata": {
    "extensions": {
     "jupyter_dashboards": {
      "version": 1,
      "views": {
       "grid_default": {
        "col": 1,
        "height": 2,
        "hidden": false,
        "row": 71,
        "width": 3
       },
       "report_default": {}
      }
     }
    }
   },
   "source": [
    "## Top tracks:"
   ]
  },
  {
   "cell_type": "code",
   "execution_count": 81,
   "metadata": {
    "code_folding": [],
    "extensions": {
     "jupyter_dashboards": {
      "version": 1,
      "views": {
       "grid_default": {
        "col": 1,
        "height": 8,
        "hidden": false,
        "row": 73,
        "width": 3
       },
       "report_default": {}
      }
     }
    },
    "scrolled": false
   },
   "outputs": [
    {
     "data": {
      "text/markdown": [
       "**Apologize** (5)"
      ],
      "text/plain": [
       "<IPython.core.display.Markdown object>"
      ]
     },
     "metadata": {},
     "output_type": "display_data"
    },
    {
     "data": {
      "text/markdown": [
       "**All Falls Down** (5)"
      ],
      "text/plain": [
       "<IPython.core.display.Markdown object>"
      ]
     },
     "metadata": {},
     "output_type": "display_data"
    },
    {
     "data": {
      "text/markdown": [
       "**Your Song** (4)"
      ],
      "text/plain": [
       "<IPython.core.display.Markdown object>"
      ]
     },
     "metadata": {},
     "output_type": "display_data"
    },
    {
     "data": {
      "text/markdown": [
       "**More Than You Know** (4)"
      ],
      "text/plain": [
       "<IPython.core.display.Markdown object>"
      ]
     },
     "metadata": {},
     "output_type": "display_data"
    },
    {
     "data": {
      "text/markdown": [
       "**Only One - Radio Edit** (4)"
      ],
      "text/plain": [
       "<IPython.core.display.Markdown object>"
      ]
     },
     "metadata": {},
     "output_type": "display_data"
    }
   ],
   "source": [
    "#\n",
    "top_tracks = week_df.groupby(['track'])['track'].agg(\n",
    "    {\"count\": len}).sort_values(\n",
    "    \"count\", ascending=False).head(20).reset_index()\n",
    "for index,track in top_tracks.iloc[:5].iterrows():\n",
    "    display(Markdown(\"**\"+unicode(track['track'],\"utf-8\")+\"** ({})\".format(track['count'])))"
   ]
  },
  {
   "cell_type": "code",
   "execution_count": 82,
   "metadata": {
    "code_folding": [],
    "extensions": {
     "jupyter_dashboards": {
      "version": 1,
      "views": {
       "grid_default": {
        "col": 4,
        "height": 10,
        "hidden": false,
        "row": 71,
        "width": 3
       },
       "report_default": {}
      }
     }
    }
   },
   "outputs": [
    {
     "data": {
      "text/markdown": [
       "![](https://lastfm-img2.akamaized.net/i/u/300x300/3df8c827345740e9b9a0559cbf27da16.png)Apologize"
      ],
      "text/plain": [
       "<IPython.core.display.Markdown object>"
      ]
     },
     "metadata": {},
     "output_type": "display_data"
    }
   ],
   "source": [
    "#\n",
    "for index,track in top_tracks.iterrows():\n",
    "    track_name = track[\"track\"]\n",
    "    temp_df = week_df[week_df[\"track\"]==track_name]\n",
    "    artist_name = temp_df.iloc[0][\"artist\"]\n",
    "    url = get_track_album_art(artist_name,track_name)\n",
    "    if url==0:\n",
    "        continue\n",
    "    else:\n",
    "        display(Markdown(\"![](\"+url+\")\"+track_name))\n",
    "        break"
   ]
  },
  {
   "cell_type": "markdown",
   "metadata": {
    "extensions": {
     "jupyter_dashboards": {
      "version": 1,
      "views": {
       "grid_default": {
        "col": 1,
        "height": 2,
        "hidden": false,
        "row": 20,
        "width": 3
       },
       "report_default": {}
      }
     }
    }
   },
   "source": [
    "## Mainstream meter"
   ]
  },
  {
   "cell_type": "code",
   "execution_count": 83,
   "metadata": {
    "code_folding": [],
    "extensions": {
     "jupyter_dashboards": {
      "version": 1,
      "views": {
       "grid_default": {
        "hidden": true
       },
       "report_default": {}
      }
     }
    },
    "scrolled": true
   },
   "outputs": [],
   "source": [
    "#\n",
    "count = 0\n",
    "i=0\n",
    "for index,track in top_tracks.iterrows():\n",
    "    try:\n",
    "        track_name = track[\"track\"]\n",
    "        temp_df = week_df[week_df[\"track\"]==track_name]\n",
    "        artist_name = temp_df.iloc[0][\"artist\"]\n",
    "        url_str = (\"http://ws.audioscrobbler.com/2.0/?method=track.getinfo&artist=\"+\n",
    "                    artist_name+\"&api_key=\"+last_api_key+\"&track=\"+track_name)\n",
    "        page = urllib.urlopen(url_str)\n",
    "        parsed_page = xmltodict.parse(page)\n",
    "        listener = parsed_page['lfm']['track']['playcount']\n",
    "        count += int(listener)\n",
    "        if i == 10:\n",
    "            break\n",
    "        i+=1\n",
    "    except:1\n",
    "try:\n",
    "    avg_count = count/i\n",
    "except:\n",
    "    print \"Mainstream score calculation failed.\"\n",
    "    avg_count =0\n",
    "a = 0.000358\n",
    "b = 5.3366\n",
    "# a y = ax^b curve fit is used, where a and b are the constants\n",
    "mainstream_score = (avg_count/a)**(1/b)"
   ]
  },
  {
   "cell_type": "code",
   "execution_count": 84,
   "metadata": {
    "code_folding": [],
    "extensions": {
     "jupyter_dashboards": {
      "version": 1,
      "views": {
       "grid_default": {
        "col": 1,
        "height": 14,
        "hidden": false,
        "row": 22,
        "width": 3
       },
       "report_default": {}
      }
     }
    }
   },
   "outputs": [
    {
     "data": {
      "text/html": [
       "<iframe id=\"igraph\" scrolling=\"no\" style=\"border:none;\" seamless=\"seamless\" src=\"https://plot.ly/~askdfiuuhiuvbidvbksdhbfv/4.embed\" height=\"400px\" width=\"350px\"></iframe>"
      ],
      "text/plain": [
       "<plotly.tools.PlotlyDisplay object>"
      ]
     },
     "execution_count": 84,
     "metadata": {},
     "output_type": "execute_result"
    }
   ],
   "source": [
    "#\n",
    "scale = ['What are you even listening to?', 'You have a special taste in music.',\n",
    "          'Not so mainstream.', 'Mainstream-ish.', 'Moderately mainstream.',\n",
    "          'Pure mainstream. Wow.']\n",
    "c= ['hsl('+str(h)+',50%'+',50%)' for h in np.linspace(0, 360, 101)]\n",
    "trace = [go.Scatter(x=[0.6], y=[mainstream_score], hoverinfo='y',\n",
    "                    showlegend=False,marker={'color': transparent})]\n",
    "shapes = []\n",
    "shapes.append({'type': 'rect','x0': 0.1, 'x1': 1.1,'y0': 0, 'y1': mainstream_score,\n",
    "              'fillcolor': c[int(mainstream_score)]})\n",
    "shapes.append({'type': 'rect','x0': 0.1, 'x1': 1.1,'y0': 0, 'y1': 100})\n",
    "for i in range(1,5):\n",
    "    line = {'type': \"line\",'x0': 0.15,'y0': 20*i,'x1': 1.1,'y1': 20*i,\n",
    "           'opacity':0.2}\n",
    "    shapes.append(line)\n",
    "xaxes ={'range':[0, 4], 'showgrid': False, 'showline': False,\n",
    "         'zeroline': False, 'showticklabels': False}\n",
    "yaxes = {'range':[-5,105], 'showgrid': False,\n",
    "         'showline': False, 'zeroline': False,\n",
    "         'ticktext':scale, 'tickvals':[0., 20.,40.,60.,80.,100.]}\n",
    "layout = {'shapes': shapes,'xaxis': xaxes,'yaxis': yaxes,\n",
    "          'autosize': False,'width': 350, 'height': 400,\n",
    "          \"margin\" : go.Margin(l=200, r=50, b=0, t=25, pad=4)}\n",
    "fig = dict(data=trace, layout=layout)\n",
    "py.iplot(fig, filename='Mainstream meter')"
   ]
  },
  {
   "cell_type": "markdown",
   "metadata": {
    "extensions": {
     "jupyter_dashboards": {
      "version": 1,
      "views": {
       "grid_default": {
        "col": 8,
        "height": 2,
        "hidden": false,
        "row": 61,
        "width": 3
       },
       "report_default": {
        "hidden": true
       }
      }
     }
    }
   },
   "source": [
    "## Top artists:"
   ]
  },
  {
   "cell_type": "code",
   "execution_count": 85,
   "metadata": {
    "code_folding": [],
    "extensions": {
     "jupyter_dashboards": {
      "version": 1,
      "views": {
       "grid_default": {
        "col": 8,
        "height": 8,
        "hidden": false,
        "row": 63,
        "width": 3
       },
       "report_default": {
        "hidden": true
       }
      }
     }
    }
   },
   "outputs": [
    {
     "data": {
      "text/markdown": [
       "**The Beatles** (22)"
      ],
      "text/plain": [
       "<IPython.core.display.Markdown object>"
      ]
     },
     "metadata": {},
     "output_type": "display_data"
    },
    {
     "data": {
      "text/markdown": [
       "**Imagine Dragons** (19)"
      ],
      "text/plain": [
       "<IPython.core.display.Markdown object>"
      ]
     },
     "metadata": {},
     "output_type": "display_data"
    },
    {
     "data": {
      "text/markdown": [
       "**Bruno Mars** (17)"
      ],
      "text/plain": [
       "<IPython.core.display.Markdown object>"
      ]
     },
     "metadata": {},
     "output_type": "display_data"
    },
    {
     "data": {
      "text/markdown": [
       "**OneRepublic** (17)"
      ],
      "text/plain": [
       "<IPython.core.display.Markdown object>"
      ]
     },
     "metadata": {},
     "output_type": "display_data"
    },
    {
     "data": {
      "text/markdown": [
       "**The Chainsmokers** (13)"
      ],
      "text/plain": [
       "<IPython.core.display.Markdown object>"
      ]
     },
     "metadata": {},
     "output_type": "display_data"
    }
   ],
   "source": [
    "#\n",
    "top_artists = week_df.groupby(['artist'])['artist'].agg(\n",
    "    {\"count\": len}).sort_values(\n",
    "    \"count\", ascending=False).head(10).reset_index()\n",
    "for index,artist in top_artists.iloc[:5].iterrows():\n",
    "    display(Markdown(\"**\"+unicode(artist['artist'],\"utf-8\")+\"** ({})\".format(artist[\"count\"])))"
   ]
  },
  {
   "cell_type": "code",
   "execution_count": 86,
   "metadata": {
    "code_folding": [],
    "extensions": {
     "jupyter_dashboards": {
      "version": 1,
      "views": {
       "grid_default": {
        "col": 5,
        "height": 10,
        "hidden": false,
        "row": 61,
        "width": 3
       },
       "report_default": {}
      }
     }
    }
   },
   "outputs": [
    {
     "data": {
      "text/markdown": [
       "![](https://lastfm-img2.akamaized.net/i/u/300x300/047a20990f8ffd0442352e67c4e0bcdc.png)The Beatles"
      ],
      "text/plain": [
       "<IPython.core.display.Markdown object>"
      ]
     },
     "metadata": {},
     "output_type": "display_data"
    }
   ],
   "source": [
    "#\n",
    "for index,artist in top_artists.iterrows():\n",
    "    artist_name = artist[\"artist\"]\n",
    "    url = get_artist_image(artist_name)\n",
    "    if url==0:\n",
    "        continue\n",
    "    else:\n",
    "        display(Markdown(\"![](\"+url+\")\"+artist_name))\n",
    "        break"
   ]
  },
  {
   "cell_type": "markdown",
   "metadata": {
    "extensions": {
     "jupyter_dashboards": {
      "version": 1,
      "views": {
       "grid_default": {
        "col": 4,
        "height": 2,
        "hidden": false,
        "row": 98,
        "width": 3
       },
       "report_default": {
        "hidden": true
       }
      }
     }
    }
   },
   "source": [
    "## Top artists chart"
   ]
  },
  {
   "cell_type": "code",
   "execution_count": 94,
   "metadata": {
    "code_folding": [],
    "extensions": {
     "jupyter_dashboards": {
      "version": 1,
      "views": {
       "grid_default": {
        "col": 1,
        "height": 15,
        "hidden": false,
        "row": 100,
        "width": 9
       },
       "report_default": {}
      }
     }
    }
   },
   "outputs": [
    {
     "data": {
      "text/html": [
       "<iframe id=\"igraph\" scrolling=\"no\" style=\"border:none;\" seamless=\"seamless\" src=\"https://plot.ly/~askdfiuuhiuvbidvbksdhbfv/6.embed\" height=\"400px\" width=\"800px\"></iframe>"
      ],
      "text/plain": [
       "<plotly.tools.PlotlyDisplay object>"
      ]
     },
     "execution_count": 94,
     "metadata": {},
     "output_type": "execute_result"
    }
   ],
   "source": [
    "#\n",
    "counts_dict = {}\n",
    "count_dict = {}\n",
    "for index,artist in top_artists.iterrows():\n",
    "    counts_dict[artist['artist']] = []\n",
    "    count_dict[artist['artist']] = 0\n",
    "times = []\n",
    "reverse_df = week_df.sort_values(by=['timestamp'],ascending=True)\n",
    "for index, row in reverse_df.iterrows():\n",
    "    artist_name = row[\"artist\"]\n",
    "    timestamp_int = int(row[\"timestamp\"])\n",
    "    times.append(datetime.datetime.fromtimestamp(timestamp_int))\n",
    "    for index, artist in top_artists.iterrows():\n",
    "        if row[\"artist\"] ==artist[\"artist\"]:\n",
    "            count = count_dict[artist['artist']] +1\n",
    "        else:\n",
    "            count = count_dict[artist['artist']]\n",
    "        count_dict[artist['artist']] = count\n",
    "        counts_dict[artist['artist']].append(count)\n",
    "data = []\n",
    "for index,artist in top_artists.iterrows():\n",
    "    counts = counts_dict[artist['artist']]\n",
    "    trace = go.Scatter(x = times, y = counts,name = artist['artist'],\n",
    "                       hoverinfo=\"name+y\")\n",
    "    data.append(trace)\n",
    "layout = go.Layout(width=800, height=400, \n",
    "                   margin=go.Margin(l=100, r=100, b=100, t=25, pad=4),\n",
    "                   yaxis=dict(title='Scrobbles',showticklabels=True))\n",
    "fig = go.Figure(data=data, layout=layout)\n",
    "py.iplot(fig, filename='Top Artists Graph')"
   ]
  },
  {
   "cell_type": "markdown",
   "metadata": {
    "extensions": {
     "jupyter_dashboards": {
      "version": 1,
      "views": {
       "grid_default": {
        "col": 8,
        "height": 2,
        "hidden": false,
        "row": 71,
        "width": 3
       },
       "report_default": {}
      }
     }
    }
   },
   "source": [
    "## Top tags:"
   ]
  },
  {
   "cell_type": "code",
   "execution_count": 88,
   "metadata": {
    "code_folding": [],
    "extensions": {
     "jupyter_dashboards": {
      "version": 1,
      "views": {
       "grid_default": {
        "col": 8,
        "height": 8,
        "hidden": false,
        "row": 73,
        "width": 3
       },
       "report_default": {}
      }
     }
    }
   },
   "outputs": [
    {
     "data": {
      "text/markdown": [
       "**pop** (187)"
      ],
      "text/plain": [
       "<IPython.core.display.Markdown object>"
      ]
     },
     "metadata": {},
     "output_type": "display_data"
    },
    {
     "data": {
      "text/markdown": [
       "**electronic** (58)"
      ],
      "text/plain": [
       "<IPython.core.display.Markdown object>"
      ]
     },
     "metadata": {},
     "output_type": "display_data"
    },
    {
     "data": {
      "text/markdown": [
       "**dance** (47)"
      ],
      "text/plain": [
       "<IPython.core.display.Markdown object>"
      ]
     },
     "metadata": {},
     "output_type": "display_data"
    },
    {
     "data": {
      "text/markdown": [
       "**alternative** (46)"
      ],
      "text/plain": [
       "<IPython.core.display.Markdown object>"
      ]
     },
     "metadata": {},
     "output_type": "display_data"
    },
    {
     "data": {
      "text/markdown": [
       "**indie** (46)"
      ],
      "text/plain": [
       "<IPython.core.display.Markdown object>"
      ]
     },
     "metadata": {},
     "output_type": "display_data"
    }
   ],
   "source": [
    "#\n",
    "def get_top_tags(input_df):\n",
    "    tag_list = []\n",
    "    for index, row in input_df.iterrows():\n",
    "        tags_string = row[\"tags\"]\n",
    "        try:\n",
    "            tags = [tag.strip() for tag in tags_string.split(',')]\n",
    "            tags = [x for x in tags if x != \"\"]\n",
    "            for tag in tags:\n",
    "                tag_list.append(tag)\n",
    "        except Exception,e:\n",
    "            1\n",
    "    top_tags = Counter(tag_list).most_common()[:10]\n",
    "    return top_tags\n",
    "top_tags = get_top_tags(week_df)\n",
    "top_five = top_tags[:5]\n",
    "for tag in top_five:\n",
    "    display(Markdown(\"**\"+tag[0]+\"** ({})\".format(tag[1])))"
   ]
  },
  {
   "cell_type": "markdown",
   "metadata": {
    "extensions": {
     "jupyter_dashboards": {
      "version": 1,
      "views": {
       "grid_default": {
        "col": 4,
        "height": 2,
        "hidden": false,
        "row": 81,
        "width": 5
       },
       "report_default": {}
      }
     }
    }
   },
   "source": [
    "## Top tags chart"
   ]
  },
  {
   "cell_type": "code",
   "execution_count": 95,
   "metadata": {
    "code_folding": [],
    "extensions": {
     "jupyter_dashboards": {
      "version": 1,
      "views": {
       "grid_default": {
        "col": 1,
        "height": 15,
        "hidden": false,
        "row": 83,
        "width": 10
       },
       "report_default": {}
      }
     }
    }
   },
   "outputs": [
    {
     "data": {
      "text/html": [
       "<iframe id=\"igraph\" scrolling=\"no\" style=\"border:none;\" seamless=\"seamless\" src=\"https://plot.ly/~askdfiuuhiuvbidvbksdhbfv/8.embed\" height=\"400px\" width=\"800px\"></iframe>"
      ],
      "text/plain": [
       "<plotly.tools.PlotlyDisplay object>"
      ]
     },
     "execution_count": 95,
     "metadata": {},
     "output_type": "execute_result"
    }
   ],
   "source": [
    "#\n",
    "counts_dict = {}\n",
    "count_dict = {}\n",
    "for tag in top_tags:\n",
    "    counts_dict[tag[0]] = []\n",
    "    count_dict[tag[0]] = 0\n",
    "times = []\n",
    "\n",
    "reverse_df = week_df.sort_values(by=['timestamp'],ascending=True)\n",
    "for index, row in reverse_df.iterrows():\n",
    "    tags_string = row[\"tags\"]\n",
    "    try:\n",
    "        timestamp_int = int(row[\"timestamp\"])\n",
    "        times.append(datetime.datetime.fromtimestamp(timestamp_int))\n",
    "        tags = [s.strip() for s in tags_string.split(',')]\n",
    "        tags = [x for x in tags if x != \"\"]\n",
    "        for item in tags:\n",
    "            for tag in top_tags:\n",
    "                if tag[0] ==item:\n",
    "                    count = count_dict[tag[0]] +1\n",
    "                else:\n",
    "                    count = count_dict[tag[0]]\n",
    "                count_dict[tag[0]] = count\n",
    "                counts_dict[tag[0]].append(count)\n",
    "    except:\n",
    "        1\n",
    "data2 = []\n",
    "for tag in top_tags:\n",
    "    counts = counts_dict[tag[0]]\n",
    "    trace = go.Scatter(x = times, y = counts,name=tag[0],\n",
    "                       hoverinfo=\"name+y\")\n",
    "    data2.append(trace)\n",
    "layout = go.Layout(width=800, height=400, \n",
    "                   margin=go.Margin(l=100, r=100, b=100, t=25, pad=4),\n",
    "                   yaxis=dict(title='Scrobbles',showticklabels=True))\n",
    "fig = go.Figure(data=data2, layout=layout)\n",
    "py.iplot(fig, filename='Top Tags Graph')"
   ]
  },
  {
   "cell_type": "markdown",
   "metadata": {
    "extensions": {
     "jupyter_dashboards": {
      "version": 1,
      "views": {
       "grid_default": {
        "col": 1,
        "height": 2,
        "hidden": false,
        "row": 61,
        "width": 3
       },
       "report_default": {}
      }
     }
    }
   },
   "source": [
    "## Top albums"
   ]
  },
  {
   "cell_type": "code",
   "execution_count": 90,
   "metadata": {
    "code_folding": [],
    "extensions": {
     "jupyter_dashboards": {
      "version": 1,
      "views": {
       "grid_default": {
        "col": 1,
        "height": 8,
        "hidden": false,
        "row": 63,
        "width": 3
       },
       "report_default": {}
      }
     }
    }
   },
   "outputs": [
    {
     "data": {
      "text/markdown": [
       "**÷ (Deluxe)** (9)"
      ],
      "text/plain": [
       "<IPython.core.display.Markdown object>"
      ]
     },
     "metadata": {},
     "output_type": "display_data"
    },
    {
     "data": {
      "text/markdown": [
       "**Doo-Wops & Hooligans** (8)"
      ],
      "text/plain": [
       "<IPython.core.display.Markdown object>"
      ]
     },
     "metadata": {},
     "output_type": "display_data"
    },
    {
     "data": {
      "text/markdown": [
       "**AVĪCI (01)** (7)"
      ],
      "text/plain": [
       "<IPython.core.display.Markdown object>"
      ]
     },
     "metadata": {},
     "output_type": "display_data"
    },
    {
     "data": {
      "text/markdown": [
       "**Smoke + Mirrors (Deluxe)** (5)"
      ],
      "text/plain": [
       "<IPython.core.display.Markdown object>"
      ]
     },
     "metadata": {},
     "output_type": "display_data"
    },
    {
     "data": {
      "text/markdown": [
       "**Waking Up** (5)"
      ],
      "text/plain": [
       "<IPython.core.display.Markdown object>"
      ]
     },
     "metadata": {},
     "output_type": "display_data"
    }
   ],
   "source": [
    "#\n",
    "top_albums = week_df.groupby(['album'])['album'].agg(\n",
    "    {\"count\": len}).sort_values(\n",
    "    \"count\", ascending=False).head(10).reset_index()\n",
    "for index,album in top_albums.iloc[:5].iterrows():\n",
    "    display(Markdown(\"**\"+unicode(album['album'],\"utf-8\")+\"** ({})\".format(album[\"count\"])))"
   ]
  },
  {
   "cell_type": "code",
   "execution_count": 91,
   "metadata": {
    "extensions": {
     "jupyter_dashboards": {
      "version": 1,
      "views": {
       "grid_default": {
        "hidden": true
       },
       "report_default": {}
      }
     }
    }
   },
   "outputs": [],
   "source": [
    "def f(x,rank,d):\n",
    "    n_max=len(rank)\n",
    "    x_max=(2*n_max-1)*d\n",
    "    if x<0:\n",
    "        return None\n",
    "    elif x_max<=x<=x_max+8:\n",
    "        if rank[-1] == 0:\n",
    "            return None\n",
    "        else:\n",
    "            return rank[-1]\n",
    "    elif x>=x_max+8:\n",
    "        return None\n",
    "    else:\n",
    "        n=int(x/(2*d))\n",
    "        x1= x%(2*d)\n",
    "        if x1<d:\n",
    "            if rank[n]==0:\n",
    "                return None\n",
    "            else:\n",
    "                return rank[n]\n",
    "        else:\n",
    "            L=rank[n+1]-rank[n]\n",
    "            x0=n*2*d+1.5*d\n",
    "            y0=(rank[n+1]+rank[n])*0.5\n",
    "            if rank[n]==0:\n",
    "                return None\n",
    "            elif rank[n+1]==0:\n",
    "                return None\n",
    "            else:\n",
    "                f=(2*((1+exp(-3*(x-x0)))**-1)-1)*0.5*L+y0\n",
    "                return f\n",
    "            \n",
    "def plotter(title, rank):\n",
    "    x = np.linspace(-1,80,200)\n",
    "    y=[]\n",
    "    i = 0\n",
    "    dots = []\n",
    "    for number in x:\n",
    "        y.append(f(number,rank,4))\n",
    "#         if y[i-1] == None and y[i] != None:\n",
    "#             trace = go.Scatter(x = [number], y = [y[i]],marker={'size': 15},showlegend=False,hoverinfo=\"none\")\n",
    "#             dots.append(trace)\n",
    "#         i+=1\n",
    "    trace1 = [go.Scatter(x = x, y = y,hoverinfo=\"name\",name=title, line = dict(width = 7,color = trace.line.color))]\n",
    "    return dots+trace1"
   ]
  },
  {
   "cell_type": "markdown",
   "metadata": {
    "extensions": {
     "jupyter_dashboards": {
      "version": 1,
      "views": {
       "grid_default": {
        "col": 4,
        "height": 2,
        "hidden": false,
        "row": 49,
        "width": 7
       },
       "report_default": {}
      }
     }
    }
   },
   "source": [
    "## Tags Subway Plot"
   ]
  },
  {
   "cell_type": "code",
   "execution_count": 92,
   "metadata": {
    "code_folding": [],
    "extensions": {
     "jupyter_dashboards": {
      "version": 1,
      "views": {
       "grid_default": {
        "col": 0,
        "height": 10,
        "hidden": false,
        "row": 51,
        "width": 11
       },
       "report_default": {}
      }
     }
    }
   },
   "outputs": [
    {
     "data": {
      "text/html": [
       "<iframe id=\"igraph\" scrolling=\"no\" style=\"border:none;\" seamless=\"seamless\" src=\"https://plot.ly/~askdfiuuhiuvbidvbksdhbfv/10.embed\" height=\"250px\" width=\"1000px\"></iframe>"
      ],
      "text/plain": [
       "<plotly.tools.PlotlyDisplay object>"
      ]
     },
     "execution_count": 92,
     "metadata": {},
     "output_type": "execute_result"
    }
   ],
   "source": [
    "#\n",
    "end_ts = int(week_df[\"timestamp\"].max())\n",
    "start_ts = int(week_df[\"timestamp\"].min())\n",
    "interval = (end_ts-start_ts)*0.1\n",
    "tag_dict = {}\n",
    "all_ranked_tags = set([])\n",
    "for i in range(10):\n",
    "    lower = start_ts+i*interval\n",
    "    upper = start_ts+(i+1)*interval\n",
    "    interval_df = week_df.loc[(week_df[\"timestamp\"].astype(int) <= upper)]\n",
    "    top_tags = get_top_tags(interval_df)[:5]\n",
    "    tags_list = []\n",
    "    for item in top_tags:\n",
    "        all_ranked_tags.add(item[0])\n",
    "        tags_list.append(item[0])\n",
    "    tag_dict[i] = tags_list\n",
    "data = []\n",
    "for tag in all_ranked_tags:\n",
    "    tag_dict[tag] = []\n",
    "    rank_list = []\n",
    "    for i in range(10):\n",
    "        try:rank_list.append((1+tag_dict[i].index(tag)))\n",
    "        except:rank_list.append(0)\n",
    "    traces = plotter(tag,rank_list)\n",
    "    data+=traces\n",
    "\n",
    "xticks = [datetime.datetime.fromtimestamp(start_ts+i*interval).strftime('%y-%m-%d') for i in range(11)]\n",
    "xaxes ={'showgrid': True, 'showline': False,\n",
    "         'zeroline': False, 'showticklabels': True,\n",
    "         'ticktext':xticks, 'tickvals':[8*i for i in range(11)]}\n",
    "yaxes = {'showgrid': False,'showline': False, 'zeroline': False,'showticklabels': False}\n",
    "layout = {'xaxis': xaxes,'yaxis': yaxes, 'width':1000, \"height\":250, \"margin\":go.Margin(l=100, r=100, b=25, t=25, pad=4)}\n",
    "fig = dict(data=data, layout=layout)\n",
    "py.iplot(fig, filename='Tube map')"
   ]
  },
  {
   "cell_type": "code",
   "execution_count": null,
   "metadata": {
    "extensions": {
     "jupyter_dashboards": {
      "version": 1,
      "views": {
       "grid_default": {
        "hidden": true
       },
       "report_default": {}
      }
     }
    }
   },
   "outputs": [],
   "source": []
  }
 ],
 "metadata": {
  "extensions": {
   "jupyter_dashboards": {
    "activeView": "grid_default",
    "version": 1,
    "views": {
     "grid_default": {
      "cellMargin": 10,
      "defaultCellHeight": 20,
      "maxColumns": 12,
      "name": "grid",
      "type": "grid"
     },
     "report_default": {
      "name": "report",
      "type": "report"
     }
    }
   }
  },
  "kernelspec": {
   "display_name": "Python 2",
   "language": "python",
   "name": "python2"
  },
  "language_info": {
   "codemirror_mode": {
    "name": "ipython",
    "version": 2
   },
   "file_extension": ".py",
   "mimetype": "text/x-python",
   "name": "python",
   "nbconvert_exporter": "python",
   "pygments_lexer": "ipython2",
   "version": "2.7.14"
  }
 },
 "nbformat": 4,
 "nbformat_minor": 2
}
